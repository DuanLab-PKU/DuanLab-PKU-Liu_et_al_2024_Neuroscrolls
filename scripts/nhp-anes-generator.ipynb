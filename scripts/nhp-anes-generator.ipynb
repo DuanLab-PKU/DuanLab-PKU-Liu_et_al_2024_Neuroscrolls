{
 "cells": [
  {
   "cell_type": "markdown",
   "id": "5a65b4b2-81cf-46f2-9664-64fa1124bfc5",
   "metadata": {},
   "source": [
    "# Generate data for anesthetized monkey\n",
    "\n",
    "2023.3.26 (Initial submission)\n",
    "\n",
    "2023.12.9 (Round 1 Check)\n",
    "\n",
    "2024.2.28 (Round 2 Check)\n",
    "\n",
    "2024.5.8 (Final Check)"
   ]
  },
  {
   "cell_type": "code",
   "execution_count": 1,
   "id": "728b6c58-60e8-4d1e-b579-aeb378a02e41",
   "metadata": {},
   "outputs": [],
   "source": [
    "%matplotlib inline"
   ]
  },
  {
   "cell_type": "code",
   "execution_count": 2,
   "id": "0ccf975a-cfeb-4c1c-81f3-5f248b8fc47f",
   "metadata": {},
   "outputs": [
    {
     "data": {
      "text/plain": [
       "'Tue May 21 18:17:36 2024'"
      ]
     },
     "execution_count": 2,
     "metadata": {},
     "output_type": "execute_result"
    }
   ],
   "source": [
    "import time\n",
    "\n",
    "time.asctime()"
   ]
  },
  {
   "cell_type": "code",
   "execution_count": 8,
   "id": "0eee3692-452a-4b41-92bc-921f72394f21",
   "metadata": {
    "tags": []
   },
   "outputs": [
    {
     "name": "stdout",
     "output_type": "stream",
     "text": [
      "v1.11.2_240515 querystr= (`group`==\"good\")\n"
     ]
    }
   ],
   "source": [
    "import glob\n",
    "import os\n",
    "import struct\n",
    "import shutil\n",
    "import pandas as pd\n",
    "import numpy as np\n",
    "import json\n",
    "from scipy.io import loadmat, savemat\n",
    "from scipy import signal, stats\n",
    "\n",
    "import matplotlib\n",
    "import matplotlib.patches as patches\n",
    "import matplotlib.ticker as mticker\n",
    "import matplotlib.pyplot as plt\n",
    "import seaborn as sns\n",
    "\n",
    "from ksd import KSD\n",
    "from ksd.utils.noise_utils import (\n",
    "    extract_rawdata,\n",
    "    butter_lowpass_filter,\n",
    "    butter_highpass_filter,\n",
    "    notch_filter,\n",
    ")\n",
    "\n",
    "querystr = '(`group`==\"good\")'\n",
    "\n",
    "print(KSD.__version__ + \" querystr=\", querystr)\n",
    "\n",
    "OL_path = \"...archived/Probe3/kilosort3_2+4\"\n",
    "PL1_path = \"...archived/Probe2/kilosort3_2nd10m_4\"\n",
    "PL2_path = \"...archived/Probe1/kilosort3_10m\"\n",
    "\n",
    "OL_offset = 0.817 + 0.24\n",
    "PL1_offset = 0.959\n",
    "PL2_offset = 0.795\n",
    "\n",
    "get_depth = lambda chid, ksd_instance: ksd_instance.channel_positions[chid, 1]\n",
    "get_depth_xy = lambda chid, ksd_instance: ksd_instance.channel_positions[chid, :]"
   ]
  },
  {
   "cell_type": "code",
   "execution_count": 4,
   "id": "da5c59ce-2f94-4d71-8b3c-ab9e2e2dbf91",
   "metadata": {},
   "outputs": [],
   "source": [
    "def default_dump(\n",
    "    obj,\n",
    "):  # https://blog.csdn.net/weixin_39561473/article/details/123227500\n",
    "    \"\"\"Convert numpy classes to JSON serializable objects.\"\"\"\n",
    "    if isinstance(obj, (np.integer, np.floating, np.bool_)):\n",
    "        return obj.item()\n",
    "    elif isinstance(obj, np.ndarray):\n",
    "        return obj.tolist()\n",
    "    else:\n",
    "        return obj"
   ]
  },
  {
   "cell_type": "code",
   "execution_count": 5,
   "id": "1bd08bea-df38-48ff-be07-c633d0ae38f6",
   "metadata": {},
   "outputs": [],
   "source": [
    "np.set_printoptions(precision=5)"
   ]
  },
  {
   "cell_type": "code",
   "execution_count": 6,
   "id": "55e3d0d1-fe50-4ea5-8a13-4a31e096801b",
   "metadata": {},
   "outputs": [],
   "source": [
    "def flatten_params(params):\n",
    "    ret = []\n",
    "    for param in params:\n",
    "        ret.extend(param)\n",
    "    return np.array(ret)"
   ]
  },
  {
   "cell_type": "code",
   "execution_count": 7,
   "id": "5c0b01d3",
   "metadata": {},
   "outputs": [],
   "source": [
    "FIGURE_DATA_PATH = \".../paper/figure_data_linux\"\n",
    "os.chdir(FIGURE_DATA_PATH)"
   ]
  },
  {
   "cell_type": "markdown",
   "id": "4488da2a-4a44-4df7-b6b9-49307e80d4ae",
   "metadata": {
    "tags": []
   },
   "source": [
    "## KSD batch processing"
   ]
  },
  {
   "cell_type": "markdown",
   "id": "c1df337f-df4f-457b-a37b-2a937b5af784",
   "metadata": {
    "jp-MarkdownHeadingCollapsed": true,
    "tags": []
   },
   "source": [
    "### Read area division data"
   ]
  },
  {
   "cell_type": "code",
   "execution_count": null,
   "id": "633a2b5d-82f3-41f1-b98e-1a5e7b58ca1e",
   "metadata": {},
   "outputs": [],
   "source": [
    "def read_division_excel(path, sheet_name, offset):\n",
    "    origin_division = pd.read_excel(path, sheet_name=sheet_name, skiprows=1).sort_index(\n",
    "        ascending=False\n",
    "    )\n",
    "    origin_division.index = range(len(origin_division))\n",
    "    origin_division[\"start\"] = (\n",
    "        origin_division.Range.apply(lambda x: eval(x.split(\"-\")[0])) - offset\n",
    "    )\n",
    "    origin_division[\"end\"] = (\n",
    "        origin_division.Range.apply(lambda x: eval(x.split(\"-\")[-1])) - offset\n",
    "    )\n",
    "    return origin_division\n",
    "\n",
    "\n",
    "OL_division = read_division_excel(\"fig3/Labels.xlsx\", \"Probe3\", OL_offset)\n",
    "PL1_division = read_division_excel(\"fig3/Labels.xlsx\", \"Probe2\", PL1_offset)\n",
    "PL2_division = read_division_excel(\"fig3/Labels.xlsx\", \"Probe1\", PL2_offset)"
   ]
  },
  {
   "cell_type": "markdown",
   "id": "174e7b93-ec5f-4a2a-bb16-419fac82200d",
   "metadata": {
    "jp-MarkdownHeadingCollapsed": true,
    "tags": []
   },
   "source": [
    "### Run KSD"
   ]
  },
  {
   "cell_type": "code",
   "execution_count": null,
   "id": "81655b03-67c2-4a4a-9b70-9e303d89df4f",
   "metadata": {
    "scrolled": true,
    "tags": []
   },
   "outputs": [],
   "source": [
    "OL_ksd = KSD(\n",
    "    OL_path,\n",
    "    phy_subset_dir=os.path.join(OL_path, \"subset_onlyfilter\"),\n",
    "    querystr=querystr,\n",
    "    area_names=OL_division.Abbreviation.values,\n",
    "    dist_division=np.array([0, *OL_division.end.values]),\n",
    "    load_if_exists=True,\n",
    "    load_subset=True,\n",
    "    subfolder=\"ksd_v1.6\",\n",
    "    imp_threshold=2,\n",
    ")\n",
    "# OL_ksd.save()\n",
    "\n",
    "PL1_ksd = KSD(\n",
    "    PL1_path,\n",
    "    phy_subset_dir=os.path.join(PL1_path, \"subset_onlyfilter\"),\n",
    "    querystr=querystr,\n",
    "    area_names=PL1_division.Abbreviation_alias.values,\n",
    "    dist_division=np.array([0, *PL1_division.end.values]),\n",
    "    load_if_exists=True,\n",
    "    load_subset=True,\n",
    "    subfolder=\"ksd_v1.6\",\n",
    "    imp_threshold=2,\n",
    ")\n",
    "# PL1_ksd.save()\n",
    "\n",
    "PL2_ksd = KSD(\n",
    "    PL2_path,\n",
    "    phy_subset_dir=os.path.join(PL2_path, \"subset_onlyfilter\"),\n",
    "    querystr=querystr,\n",
    "    area_names=PL2_division.Abbreviation_alias.values,\n",
    "    dist_division=np.array([0, *PL2_division.end.values]),\n",
    "    load_if_exists=True,\n",
    "    load_subset=True,\n",
    "    subfolder=\"ksd_v1.6\",\n",
    "    imp_threshold=2,\n",
    ")\n",
    "# PL2_ksd.save()"
   ]
  },
  {
   "cell_type": "code",
   "execution_count": null,
   "id": "4eba233f",
   "metadata": {},
   "outputs": [],
   "source": [
    "OL_ksd_mua = KSD(\n",
    "    OL_path,\n",
    "    phy_subset_dir=os.path.join(OL_path, \"subset_onlyfilter\"),\n",
    "    querystr='(`group`==\"good\")|(`group`==\"mua\")',\n",
    "    area_names=OL_division.Abbreviation.values,\n",
    "    dist_division=np.array([0, *OL_division.end.values]),\n",
    "    load_if_exists=True,\n",
    "    load_subset=True,\n",
    "    subfolder=\"ksd_v1.6\",\n",
    "    imp_threshold=2,\n",
    ")\n",
    "\n",
    "PL1_ksd_mua = KSD(\n",
    "    PL1_path,\n",
    "    phy_subset_dir=os.path.join(PL1_path, \"subset_onlyfilter\"),\n",
    "    querystr='(`group`==\"good\")|(`group`==\"mua\")',\n",
    "    area_names=PL1_division.Abbreviation_alias.values,\n",
    "    dist_division=np.array([0, *PL1_division.end.values]),\n",
    "    load_if_exists=True,\n",
    "    load_subset=True,\n",
    "    subfolder=\"ksd_v1.6\",\n",
    "    imp_threshold=2,\n",
    ")\n",
    "\n",
    "PL2_ksd_mua = KSD(\n",
    "    PL2_path,\n",
    "    phy_subset_dir=os.path.join(PL2_path, \"subset_onlyfilter\"),\n",
    "    querystr='(`group`==\"good\")|(`group`==\"mua\")',\n",
    "    area_names=PL2_division.Abbreviation_alias.values,\n",
    "    dist_division=np.array([0, *PL2_division.end.values]),\n",
    "    load_if_exists=True,\n",
    "    load_subset=True,\n",
    "    subfolder=\"ksd_v1.6\",\n",
    "    imp_threshold=2,\n",
    ")"
   ]
  },
  {
   "cell_type": "markdown",
   "id": "978ac706-6eed-4441-8bb0-7a8ef71da266",
   "metadata": {
    "tags": []
   },
   "source": [
    "## Data analysis"
   ]
  },
  {
   "cell_type": "markdown",
   "id": "cd830db0-8d44-4d71-b659-4f20d5a8a209",
   "metadata": {
    "tags": []
   },
   "source": [
    "### Figure 1k & Figure 1l"
   ]
  },
  {
   "cell_type": "code",
   "execution_count": null,
   "id": "1fd7bfd2",
   "metadata": {},
   "outputs": [],
   "source": [
    "fig1kl = pd.read_excel(\"fig1/fig1kl.xlsx\")"
   ]
  },
  {
   "cell_type": "code",
   "execution_count": null,
   "id": "485e6464-8215-4138-a06a-b35268c43cec",
   "metadata": {},
   "outputs": [],
   "source": [
    "(fig1kl[\"device_1\"] < 2e6).sum()  # 906"
   ]
  },
  {
   "cell_type": "code",
   "execution_count": null,
   "id": "a7f14726",
   "metadata": {},
   "outputs": [],
   "source": [
    "fig1kl[\"device_1\"].median(), fig1kl[\"device_1\"].quantile(0.25), fig1kl[\"device_1\"].quantile(\n",
    "    0.75\n",
    "), fig1kl[\"device_1\"].mean()\n",
    "# (193500.0, 156000.0, 311000.0, 1306953.8692382812)"
   ]
  },
  {
   "cell_type": "markdown",
   "id": "9d9ff371-b548-4382-a84d-b3d5e34acb37",
   "metadata": {
    "tags": []
   },
   "source": [
    "### Figure 4d"
   ]
  },
  {
   "cell_type": "code",
   "execution_count": null,
   "id": "a2003443",
   "metadata": {},
   "outputs": [],
   "source": [
    "def label_waveform(x, TS=0.1, CS=1, FS=0.4):\n",
    "    if x.PT_ratio > 1:\n",
    "        return \"PS\"\n",
    "    # elif (x.PT_ratio1>TS):\n",
    "    elif (x.PT_ratio1 > TS) & (x.duration_pp < CS):\n",
    "        return \"TS\"\n",
    "    # elif x.duration_pp>=CS:\n",
    "    #     return 'CS'\n",
    "    # elif x.duration_pp<FS:\n",
    "    #     return 'FS'\n",
    "    elif x.mch >= 0:\n",
    "        return \"RS\"\n",
    "    else:\n",
    "        return None"
   ]
  },
  {
   "cell_type": "code",
   "execution_count": null,
   "id": "b0c0f317",
   "metadata": {},
   "outputs": [],
   "source": [
    "PL1_ksd.info[\"waveform_type\"] = PL1_ksd.info.apply(label_waveform, axis=1)\n",
    "# PL1_ksd.cluster_info['waveform_type']=PL1_ksd.cluster_info.apply(label_waveform,axis=1)\n",
    "# PL2_ksd.cluster_info['waveform_type']=PL2_ksd.cluster_info.apply(label_waveform,axis=1)"
   ]
  },
  {
   "cell_type": "code",
   "execution_count": null,
   "id": "d958d179-bee6-4b61-8fb4-da9ad2101318",
   "metadata": {},
   "outputs": [],
   "source": [
    "PL1_ksd.info.sort_values(\"mch\")[\n",
    "    [\"cluster_id\", \"mch\", \"real_amp\", \"waveform_type\"]\n",
    "].rename(columns={\"mch\": \"Main Channel\"}).to_excel(\"fig4/fig4d.xlsx\", index=False)"
   ]
  },
  {
   "cell_type": "markdown",
   "id": "2fb0dada-5570-4c0c-b546-b88fc198caa1",
   "metadata": {
    "tags": []
   },
   "source": [
    "### Figure 3d"
   ]
  },
  {
   "cell_type": "code",
   "execution_count": null,
   "id": "e8d98233",
   "metadata": {},
   "outputs": [],
   "source": [
    "active_channel_matrix = np.zeros(1024)\n",
    "active_channel_matrix[PL2_ksd.channels_have_signals] = flatten_params(PL2_ksd.density)\n",
    "pd.DataFrame(\n",
    "    {\n",
    "        \"channel_id\": np.arange(1024),\n",
    "        \"density\": active_channel_matrix,\n",
    "        \"depth\": PL2_ksd.channel_positions[:, 1],\n",
    "    }\n",
    ").to_excel(\"fig3/fig3d.xlsx\", index=False)"
   ]
  },
  {
   "cell_type": "code",
   "execution_count": null,
   "id": "2c8652d3-283a-4318-93f1-e5f35fa293c6",
   "metadata": {},
   "outputs": [],
   "source": [
    "active_channel_matrix = np.zeros(1024)\n",
    "active_channel_matrix[PL2_ksd.channels_have_signals] = flatten_params(PL2_ksd.density)\n",
    "np.savetxt(\"fig3/fig3d_probe1_density.csv\", active_channel_matrix, delimiter=\",\")"
   ]
  },
  {
   "cell_type": "markdown",
   "id": "ec34a802-d75d-4eba-8091-146aeec2a206",
   "metadata": {
    "tags": []
   },
   "source": [
    "### Figure 3f & Figure 4b"
   ]
  },
  {
   "cell_type": "code",
   "execution_count": null,
   "id": "12d234a5",
   "metadata": {},
   "outputs": [],
   "source": [
    "PL2_raw_trace = extract_rawdata(\n",
    "    \".../Probe1.bin\", skip=367, window=0.6, sample_rate=30000, n_channels=1024\n",
    ") # data not provided\n",
    "PL2_raw_trace = butter_highpass_filter(PL2_raw_trace, 300, 30000)\n",
    "\n",
    "PL1_raw_trace = extract_rawdata(\n",
    "    \".../Probe2.bin\", skip=348.3, window=0.5, sample_rate=30000, n_channels=1024\n",
    ") # data not provided\n",
    "PL1_raw_trace = butter_highpass_filter(PL1_raw_trace, 300, 30000)"
   ]
  },
  {
   "cell_type": "code",
   "execution_count": 19,
   "id": "f4c8c388",
   "metadata": {},
   "outputs": [],
   "source": [
    "np.savetxt(\"fig3/fig3f.csv\", PL2_raw_trace[6000:6000+3500,:], delimiter=\",\") # 367.2s\n",
    "np.savetxt(\"fig4/fig4b.csv\", PL1_raw_trace[6000:6000+2500,:], delimiter=\",\") # 348.5s"
   ]
  },
  {
   "cell_type": "markdown",
   "id": "48880aa8-bbcf-4b14-a432-29bf477a4c19",
   "metadata": {
    "tags": []
   },
   "source": [
    "### Figure 3e"
   ]
  },
  {
   "cell_type": "code",
   "execution_count": null,
   "id": "7fedf25f",
   "metadata": {},
   "outputs": [],
   "source": [
    "PL2_ksd.dist_division  # array([ 0.   ,  2.005,  2.905,  7.705,  9.505, 22.645, 26.945, 27.805, 28.665, 34.605])"
   ]
  },
  {
   "cell_type": "code",
   "execution_count": null,
   "id": "7376ca9f-30ad-4c07-ba86-5db3a11a198e",
   "metadata": {},
   "outputs": [],
   "source": [
    "st_dict = []\n",
    "for _, (clid, depth, n_spikes) in PL2_ksd.info[\n",
    "    [\"cluster_id\", \"depth\", \"n_spikes\"]\n",
    "].iterrows():\n",
    "    print(clid, end=\"\\t\\r\")\n",
    "    st = (\n",
    "        PL2_ksd.spike_times[\n",
    "            (PL2_ksd.spike_times > 355 * 30000)\n",
    "            & (PL2_ksd.spike_times < 385 * 30000)\n",
    "            & (PL2_ksd.spike_clusters == clid)\n",
    "        ]\n",
    "        / 30000\n",
    "    )\n",
    "    st_dict.append({\"cluster_id\": clid, \"spike_times\": st.tolist(), \"depth\": depth})\n",
    "pd.DataFrame(st_dict).to_json(\"fig3/fig3e.json\", index=False)"
   ]
  },
  {
   "cell_type": "markdown",
   "id": "609c2180-f4ca-4143-9f74-e4951645a7c1",
   "metadata": {
    "tags": []
   },
   "source": [
    "### Figure 4c"
   ]
  },
  {
   "cell_type": "code",
   "execution_count": null,
   "id": "73092d97-0bc7-4b80-b420-dc74fdeb661a",
   "metadata": {},
   "outputs": [],
   "source": [
    "fig4c_waveform_metrics = PL1_ksd.info.query(\n",
    "    \"(ch>=510)&(ch<586)&(real_amp>30)&(real_amp<150)\"\n",
    ")[[\"cluster_id\", \"depth\", \"mch\", \"real_amp\", \"waveform_type\"]].copy()\n",
    "\n",
    "fig4c_waveform_metrics[\"mwf\"] = fig4c_waveform_metrics.apply(\n",
    "    lambda x: PL1_ksd.mean_waveforms.get(x.cluster_id)[x.mch].tolist(), axis=1\n",
    ")\n",
    "\n",
    "fig4c_waveform_metrics.to_json(\"fig4/fig4c.json\")"
   ]
  },
  {
   "cell_type": "code",
   "execution_count": null,
   "id": "b5e6c934",
   "metadata": {},
   "outputs": [],
   "source": [
    "PL1_ksd.channel_positions[510 - 2, 1], PL1_ksd.channel_positions[\n",
    "    586 + 2, 1\n",
    "]  # (12.192, 14.112) which are the ylims of fig 4c"
   ]
  },
  {
   "cell_type": "markdown",
   "id": "214bffd0-bb30-46e6-a5d6-a87811d3a1cf",
   "metadata": {
    "tags": []
   },
   "source": [
    "### Figure 3g"
   ]
  },
  {
   "cell_type": "code",
   "execution_count": null,
   "id": "d2a13ca8-2b01-4b46-84a2-b9cd0e85b719",
   "metadata": {},
   "outputs": [],
   "source": [
    "cluster_selected = [\n",
    "    2747,\n",
    "    10,\n",
    "    2735,\n",
    "    2695,\n",
    "    2986,\n",
    "    2237,\n",
    "    23,\n",
    "    2226,\n",
    "    2221,\n",
    "    270,\n",
    "    1228,\n",
    "    2223,\n",
    "    2392,\n",
    "    2410,\n",
    "    1654,\n",
    "    2409,\n",
    "    2394,\n",
    "    1398,\n",
    "    938,\n",
    "    1403,\n",
    "    2982,\n",
    "    2787,\n",
    "    2896,\n",
    "    2853,\n",
    "    2871,\n",
    "    1680,\n",
    "    2775,\n",
    "    1139,\n",
    "    2983,\n",
    "    1134,\n",
    "    2841,\n",
    "    675,\n",
    "]\n",
    "\n",
    "wfs = {}\n",
    "for n_clid, clid in enumerate(cluster_selected):\n",
    "    mch = PL2_ksd.info.mch.get(clid)\n",
    "    wf = PL2_ksd.extract_waveforms(clid, max_spikes=100)[mch]\n",
    "    wfs.update({str(clid): wf.tolist()})\n",
    "\n",
    "with open(\"fig3/fig3g.json.new\", \"w\") as fp:  # not reproducible due to random sampling\n",
    "    json.dump(wfs, fp)"
   ]
  },
  {
   "cell_type": "markdown",
   "id": "57c5c4e0-a15c-4b2b-8b8c-12bf54ad8944",
   "metadata": {
    "tags": []
   },
   "source": [
    "### Figure 3h & Figure 4f"
   ]
  },
  {
   "cell_type": "code",
   "execution_count": null,
   "id": "fec72667-eeae-45da-93b3-04981081d0ff",
   "metadata": {},
   "outputs": [],
   "source": [
    "def get_ksd_result_json(k, fn):\n",
    "    ksd_result_json = {\n",
    "        \"area_name\": k.area_names,\n",
    "        \"dist_division\": (\n",
    "            list(k.dist_division) if k.dist_division is not None else \"None\"\n",
    "        ),\n",
    "        \"intervals\": k.intervals,\n",
    "        \"yield\": k.yield_,\n",
    "        \"efficiency\": k.efficiency,\n",
    "        \"spread\": k.spread,\n",
    "        \"density\": k.density,\n",
    "    }\n",
    "\n",
    "    def default_dump(\n",
    "        obj,\n",
    "    ):  # https://blog.csdn.net/weixin_39561473/article/details/123227500\n",
    "        \"\"\"Convert numpy classes to JSON serializable objects.\"\"\"\n",
    "        if isinstance(obj, (np.integer, np.floating, np.bool_)):\n",
    "            return obj.item()\n",
    "        elif isinstance(obj, np.ndarray):\n",
    "            return obj.tolist()\n",
    "        else:\n",
    "            return obj\n",
    "\n",
    "    with open(fn, \"w\") as fp:\n",
    "        json.dump(ksd_result_json, fp, indent=4, default=default_dump)"
   ]
  },
  {
   "cell_type": "code",
   "execution_count": null,
   "id": "d88d8efc-6c96-4e7f-83e5-5973cd8616bf",
   "metadata": {},
   "outputs": [],
   "source": [
    "get_ksd_result_json(PL2_ksd, \"fig3/fig3h.json\")\n",
    "get_ksd_result_json(PL1_ksd, \"fig4/fig4f.json\")"
   ]
  },
  {
   "cell_type": "markdown",
   "id": "c780aa60-75d0-4f65-ad6b-f9a24ad4a7f1",
   "metadata": {
    "tags": []
   },
   "source": [
    "### Figure 3i"
   ]
  },
  {
   "cell_type": "code",
   "execution_count": null,
   "id": "ac4fa57a-c2b4-487b-a035-c7b965529fab",
   "metadata": {
    "tags": []
   },
   "outputs": [],
   "source": [
    "def calc_snr(x):\n",
    "    cluster_info = x.info\n",
    "    rms = x.channel_RMS\n",
    "    return cluster_info.apply(\n",
    "        lambda cl: cl.real_amp / rms[cl.mch], axis=1\n",
    "    ).values  # real_amp_pp before 2022.12.5"
   ]
  },
  {
   "cell_type": "code",
   "execution_count": null,
   "id": "f7c2b3a6",
   "metadata": {},
   "outputs": [],
   "source": [
    "get_params_grouped_by_area = lambda ksd_instance, param_name: [\n",
    "    ksd_instance.info.query(\"ch>=%d&ch<=%d\" % (i, j))[param_name].values.tolist()\n",
    "    for i, j in ksd_instance.intervals\n",
    "]\n",
    "\n",
    "\n",
    "def get_params_grouped_by_area_merged(param):\n",
    "    ans = get_params_grouped_by_area(collection[\"PL2\"], param)\n",
    "    ans.extend(get_params_grouped_by_area(collection[\"PL1\"], param))\n",
    "    ans.extend(get_params_grouped_by_area(collection[\"OL\"], param))\n",
    "    return ans"
   ]
  },
  {
   "cell_type": "code",
   "execution_count": null,
   "id": "5c6a9d4d-ef7d-404c-a2e6-d994ebf82b1c",
   "metadata": {},
   "outputs": [],
   "source": [
    "collection = {\n",
    "    \"PL1\": PL1_ksd,\n",
    "    \"PL2\": PL2_ksd,\n",
    "    \"OL\": OL_ksd,\n",
    "}\n",
    "\n",
    "area_names = PL2_ksd.area_names.tolist()\n",
    "area_names.extend(PL1_ksd.area_names)\n",
    "area_names.extend(OL_ksd.area_names)\n",
    "\n",
    "\n",
    "amplitudes = get_params_grouped_by_area(PL2_ksd, \"real_amp\")\n",
    "amplitudes.extend(get_params_grouped_by_area(PL1_ksd, \"real_amp\"))\n",
    "amplitudes.extend(get_params_grouped_by_area(OL_ksd, \"real_amp\"))\n",
    "\n",
    "frs = get_params_grouped_by_area(PL2_ksd, \"fr\")\n",
    "frs.extend(get_params_grouped_by_area(PL1_ksd, \"fr\"))\n",
    "frs.extend(get_params_grouped_by_area(OL_ksd, \"fr\"))\n",
    "\n",
    "PL2_ksd.channel_RMS = stats.median_abs_deviation(\n",
    "    extract_rawdata(...), scale=\"normal\"\n",
    ")  # 'temp_filtered.dat' not provided\n",
    "PL2_ksd.info[\"snr\"] = calc_snr(PL2_ksd)\n",
    "PL1_ksd.channel_RMS = stats.median_abs_deviation(\n",
    "    extract_rawdata(...), scale=\"normal\"\n",
    ")  # 'temp_filtered.dat' not provided\n",
    "PL1_ksd.info[\"snr\"] = calc_snr(PL1_ksd)\n",
    "OL_ksd.channel_RMS = stats.median_abs_deviation(\n",
    "    extract_rawdata(...), scale=\"normal\"\n",
    ")  # 'temp_filtered.dat' not provided\n",
    "OL_ksd.info[\"snr\"] = calc_snr(OL_ksd)\n",
    "\n",
    "snrs = get_params_grouped_by_area(PL2_ksd, \"snr\")\n",
    "snrs.extend(get_params_grouped_by_area(PL1_ksd, \"snr\"))\n",
    "snrs.extend(get_params_grouped_by_area(OL_ksd, \"snr\"))\n",
    "\n",
    "yields = np.concatenate([PL2_ksd.yield_, PL1_ksd.yield_, OL_ksd.yield_])\n",
    "efficiencies = np.concatenate(\n",
    "    [PL2_ksd.efficiency, PL1_ksd.efficiency, OL_ksd.efficiency]\n",
    ")"
   ]
  },
  {
   "cell_type": "code",
   "execution_count": null,
   "id": "9401a98f-3715-4745-aa38-9ebadb7b3204",
   "metadata": {},
   "outputs": [],
   "source": [
    "pd.DataFrame(\n",
    "    {\n",
    "        \"probe\": [\"Probe1\"] * len(PL2_ksd.area_names)\n",
    "        + [\"Probe2\"] * len(PL1_ksd.area_names)\n",
    "        + [\"Probe3\"] * len(OL_ksd.area_names),\n",
    "        \"area_names\": area_names,\n",
    "        \"amplitudes\": amplitudes,\n",
    "        \"firingrates\": frs,\n",
    "        \"snr\": snrs,\n",
    "        \"yields\": yields,\n",
    "        \"efficiencies\": efficiencies,\n",
    "    }\n",
    ").to_json(\"fig3/fig3i.json\")"
   ]
  },
  {
   "cell_type": "markdown",
   "id": "fa83c93f-8814-49f1-9b96-72e1575e875c",
   "metadata": {
    "tags": []
   },
   "source": [
    "### Figure 4g"
   ]
  },
  {
   "cell_type": "code",
   "execution_count": 9,
   "id": "188376c9",
   "metadata": {},
   "outputs": [],
   "source": [
    "PL2_raw_trace = extract_rawdata(\n",
    "    \".../Probe1.bin\", skip=374, window=6, sample_rate=30000, n_channels=1024\n",
    ")  # data not provided\n",
    "PL2_raw_trace_lfp = butter_lowpass_filter(PL2_raw_trace, 300, 30000)\n",
    "PL2_raw_trace_lfp = notch_filter(PL2_raw_trace_lfp, 30000)\n",
    "PL2_raw_trace_hp = butter_highpass_filter(PL2_raw_trace, 300, 30000)"
   ]
  },
  {
   "cell_type": "code",
   "execution_count": 13,
   "id": "0de5e567",
   "metadata": {},
   "outputs": [],
   "source": [
    "np.savetxt(\n",
    "    \"fig4/fig4g_lower_probe1_lp_filter_trace.csv\",\n",
    "    PL2_raw_trace_lfp[15000:-15000, 896:937].mean(axis=1),\n",
    "    delimiter=\",\",\n",
    ")\n",
    "np.savetxt(\n",
    "    \"fig4/fig4g_upper_probe1_hp_filter_trace.csv\",\n",
    "    PL2_raw_trace_hp[15000:-15000, 896:937:5],\n",
    "    delimiter=\",\",\n",
    ")"
   ]
  },
  {
   "cell_type": "code",
   "execution_count": null,
   "id": "292f941d-0cbc-4ffe-bf3a-e4198bbf8208",
   "metadata": {
    "tags": []
   },
   "outputs": [],
   "source": [
    "tstart = 374.5\n",
    "tend = 379.5\n",
    "chstart = 896\n",
    "chend = 936\n",
    "spacing = 150\n",
    "fig4g_df = []\n",
    "for _, (clid, mch, n_spikes) in PL2_ksd.info.query(\"(mch>=@chstart)&(mch<=@chend)\")[\n",
    "    [\"cluster_id\", \"mch\", \"n_spikes\"]\n",
    "].iterrows():\n",
    "    print(clid, end=\"\\t\\r\")\n",
    "    st = (\n",
    "        PL2_ksd.spike_times[\n",
    "            (PL2_ksd.spike_times > tstart * 30000)\n",
    "            & (PL2_ksd.spike_times < tend * 30000)\n",
    "            & (PL2_ksd.spike_clusters == clid)\n",
    "        ]\n",
    "        / 30000\n",
    "    )\n",
    "    fig4g_df.append({\"cluster_id\": clid, \"channel\": mch, \"spike_times\": st.tolist()})\n",
    "\n",
    "fig4g_df = pd.DataFrame(fig4g_df)\n",
    "fig4g_df.to_json(\"fig4/fig4g_lower_raster_plot.json\", index=False)"
   ]
  },
  {
   "cell_type": "markdown",
   "id": "66bef2a8",
   "metadata": {},
   "source": [
    "### Figure 4h\n",
    "\n",
    "(data from matlab)"
   ]
  },
  {
   "cell_type": "code",
   "execution_count": null,
   "id": "bc5775aa",
   "metadata": {},
   "outputs": [],
   "source": [
    "fig4h_upper=loadmat(\"fig4/fig4h_upper.mat\")\n",
    "fig4h_lower=loadmat(\"fig4/fig4h_lower.mat\")"
   ]
  },
  {
   "cell_type": "code",
   "execution_count": null,
   "id": "483fbb55",
   "metadata": {},
   "outputs": [],
   "source": [
    "pd.DataFrame({'slow_oscillation(rad)':fig4h_upper['A'].flatten(),'delta_oscillation(rad)':fig4h_lower['A'].flatten()}).to_excel('fig4/fig4h.xlsx',index=False)"
   ]
  },
  {
   "cell_type": "markdown",
   "id": "bf1290c4-3d2a-4514-acbb-4c9c37615ecb",
   "metadata": {
    "tags": []
   },
   "source": [
    "### Figure 4i\n",
    "\n",
    "Cross Correlation"
   ]
  },
  {
   "cell_type": "markdown",
   "id": "cc6e36b0-5b4c-4ba7-abaf-275a21cc7230",
   "metadata": {
    "jp-MarkdownHeadingCollapsed": true,
    "tags": []
   },
   "source": [
    "#### Compute CCG"
   ]
  },
  {
   "cell_type": "code",
   "execution_count": null,
   "id": "6bd454fc-0531-4b6e-8501-80e899a36b0f",
   "metadata": {},
   "outputs": [],
   "source": [
    "from scipy.fftpack import fft, ifft"
   ]
  },
  {
   "cell_type": "code",
   "execution_count": null,
   "id": "89d4eb65-3d2a-4566-8689-4fef84d4b750",
   "metadata": {},
   "outputs": [],
   "source": [
    "np.random.seed(0)"
   ]
  },
  {
   "cell_type": "code",
   "execution_count": null,
   "id": "10a37d7b-0cc6-4c08-b22d-27acf0133d21",
   "metadata": {},
   "outputs": [],
   "source": [
    "def correlogram_matrix(st1, st2):\n",
    "    st1 = np.array([st1])\n",
    "    st2 = np.array([st2])\n",
    "    return st1.repeat(len(st2[0]), axis=0) - st2.T.repeat(len(st1[0]), axis=1)"
   ]
  },
  {
   "cell_type": "code",
   "execution_count": null,
   "id": "ed365fd7-b031-4bde-9c6e-8b29df7c9a3a",
   "metadata": {},
   "outputs": [],
   "source": [
    "def ccg(\n",
    "    ksd_instance,\n",
    "    clid1,\n",
    "    clid2,\n",
    "    dtmin=-0.2,\n",
    "    dtmax=0.2,\n",
    "    bin_time=0.0005,\n",
    "    boxcar=0.003,\n",
    "    shuffle=0.4,\n",
    "):\n",
    "    if shuffle != 0:\n",
    "        st1 = ksd_instance.spike_times_r[ksd_instance.spike_clusters == clid1]\n",
    "        st2 = ksd_instance.spike_times_r[ksd_instance.spike_clusters == clid2]\n",
    "        corrmat = correlogram_matrix(\n",
    "            st1 + np.random.rand(len(st1)) * shuffle,\n",
    "            st2 + np.random.rand(len(st2)) * shuffle,\n",
    "        )\n",
    "    else:\n",
    "        corrmat = correlogram_matrix(\n",
    "            ksd_instance.spike_times_r[ksd_instance.spike_clusters == clid1],\n",
    "            ksd_instance.spike_times_r[ksd_instance.spike_clusters == clid2],\n",
    "        )\n",
    "    corrmat_ravel = corrmat.ravel()\n",
    "    corrmat_ravel = corrmat_ravel[(corrmat_ravel < dtmax) & ((corrmat_ravel > dtmin))]\n",
    "    bin_count = int((dtmax - dtmin) / bin_time)\n",
    "\n",
    "    hist, bin_edges = np.histogram(\n",
    "        corrmat_ravel, bins=bin_count, range=(dtmin, dtmax)\n",
    "    )  # 22.12.28 added param `range`\n",
    "\n",
    "    window = signal.windows.boxcar(int(boxcar / bin_time))\n",
    "    hist_fft = fft(hist)\n",
    "    boxcar_fft = fft(window, n=len(hist))\n",
    "\n",
    "    hist_fft_boxcar = hist_fft * boxcar_fft\n",
    "\n",
    "    hist_boxcar = np.real(ifft(hist_fft_boxcar))\n",
    "\n",
    "    return (\n",
    "        hist,\n",
    "        hist_boxcar,\n",
    "        bin_edges + bin_time / 2,\n",
    "    )  # 22.12.27 modified `bin_edges` to `bin_edges+bin_time/2`"
   ]
  },
  {
   "cell_type": "markdown",
   "id": "7f8b3863-09c8-45ff-a048-de4b9f34382a",
   "metadata": {
    "jp-MarkdownHeadingCollapsed": true,
    "tags": []
   },
   "source": [
    "#### Filter by threshold"
   ]
  },
  {
   "cell_type": "code",
   "execution_count": null,
   "id": "f9eea237-3314-4efc-bf36-ef6d32cd760d",
   "metadata": {},
   "outputs": [],
   "source": [
    "def check_thresold(h, be, thre, baseline):  # 22.12.28 updated\n",
    "    hist_id = np.argwhere(h > thre).ravel()\n",
    "    if hist_id.size == 0:\n",
    "        return np.nan, np.nan\n",
    "\n",
    "    try:\n",
    "        consecutive_bin = np.diff(hist_id) == 1\n",
    "        if len(consecutive_bin) == 0:\n",
    "            return np.nan, np.nan\n",
    "\n",
    "        second_diff = np.diff(hist_id)\n",
    "        second_diff_cut = np.argwhere(second_diff > 1).ravel() + 1\n",
    "\n",
    "        max_strength = None\n",
    "        lag_corresponding_to_max_strength = None\n",
    "\n",
    "        if len(second_diff_cut) == 0:\n",
    "            h_argmax = h[hist_id].argmax() + hist_id[0]\n",
    "\n",
    "            lag_corresponding_to_max_strength = be[h_argmax]\n",
    "            max_strength = h[h_argmax - 1 : h_argmax + 2].mean() / baseline\n",
    "\n",
    "        else:  # Multiple non-consecutive bins are separated and an element is added at the end. Calculate the lag and strength of each bin separately, and select the group with the largest strength.\n",
    "            for cut_id in range(len(second_diff_cut) + 1):\n",
    "                h_cut_argmax = (\n",
    "                    h[\n",
    "                        hist_id[\n",
    "                            0 if cut_id == 0 else second_diff_cut[cut_id - 1] : (\n",
    "                                second_diff_cut[cut_id]\n",
    "                                if cut_id < len(second_diff_cut)\n",
    "                                else len(hist_id)\n",
    "                            )\n",
    "                        ]\n",
    "                    ].argmax()\n",
    "                    + hist_id[0 if cut_id == 0 else second_diff_cut[cut_id - 1]]\n",
    "                )\n",
    "\n",
    "                lag = be[h_cut_argmax]\n",
    "                strength = h[h_cut_argmax - 1 : h_cut_argmax + 2].mean() / baseline\n",
    "\n",
    "                if (cut_id == 0) or (np.abs(strength) > np.abs(max_strength)):\n",
    "                    max_strength = strength  # initial assignment if cut_id==0\n",
    "                    lag_corresponding_to_max_strength = lag\n",
    "\n",
    "    except Exception as e:\n",
    "        print(e)\n",
    "        return np.nan, np.nan\n",
    "\n",
    "    return lag_corresponding_to_max_strength, max_strength"
   ]
  },
  {
   "cell_type": "code",
   "execution_count": null,
   "id": "fe54a73b-a598-4aec-9b95-0ed760bba08e",
   "metadata": {},
   "outputs": [],
   "source": [
    "def pairwise_analysis(ksd_instance, cl1, cl2):\n",
    "    _, hist0, be0 = ccg(ksd_instance, cl1, cl2, shuffle=0.4)\n",
    "    hist_original1, hist1, be1 = ccg(ksd_instance, cl1, cl2, shuffle=0)\n",
    "    return hist_original1.sum(), *check_thresold(\n",
    "        hist1, be1, hist0.mean() + 3 * hist0.std(), hist0.mean()\n",
    "    )"
   ]
  },
  {
   "cell_type": "code",
   "execution_count": null,
   "id": "bed31935-43ce-4ca3-b04c-0cf37cb66566",
   "metadata": {
    "scrolled": true,
    "tags": []
   },
   "outputs": [],
   "source": [
    "%%capture output\n",
    "%%time\n",
    "cluster_selected=PL2_ksd.cluster_id\n",
    "# 33min 49s\n",
    "PL2corrmat=pd.DataFrame(index=cluster_selected,columns=cluster_selected)\n",
    "\n",
    "for x in cluster_selected:\n",
    "    print(x)\n",
    "    for y in cluster_selected[cluster_selected<x]:\n",
    "        # print(y)\n",
    "        PL2corrmat.loc[x,y]=pairwise_analysis(PL2_ksd,x,y)"
   ]
  },
  {
   "cell_type": "code",
   "execution_count": null,
   "id": "db9d5b00-350c-4841-ad4d-f0c276264229",
   "metadata": {},
   "outputs": [],
   "source": [
    "%%capture output2 \n",
    "%%time\n",
    "# 20min 34s\n",
    "cluster_selected=PL1_ksd.cluster_id\n",
    "\n",
    "PL1corrmat=pd.DataFrame(index=cluster_selected,columns=cluster_selected)\n",
    "\n",
    "for x in cluster_selected:\n",
    "    print(x)\n",
    "    for y in cluster_selected[cluster_selected<x]:\n",
    "        PL1corrmat.loc[x,y]=pairwise_analysis(PL1_ksd,x,y)"
   ]
  },
  {
   "cell_type": "code",
   "execution_count": null,
   "id": "cb4d893c-bd4e-4fe8-ac28-01fb56adb6c1",
   "metadata": {},
   "outputs": [],
   "source": [
    "%%capture output3\n",
    "%%time\n",
    "# 10min 41s\n",
    "cluster_selected=OL_ksd.cluster_id\n",
    "\n",
    "OLcorrmat=pd.DataFrame(index=cluster_selected,columns=cluster_selected)\n",
    "\n",
    "for x in cluster_selected:\n",
    "    print(x)\n",
    "    for y in cluster_selected[cluster_selected<x]:\n",
    "        OLcorrmat.loc[x,y]=pairwise_analysis(OL_ksd,x,y)"
   ]
  },
  {
   "cell_type": "code",
   "execution_count": null,
   "id": "ea2ac7a6-5bcb-406c-95ef-157c565133ed",
   "metadata": {},
   "outputs": [],
   "source": [
    "# PL1corrmat.to_csv('charts/PL1_correlation_good.csv')\n",
    "# PL2corrmat.to_csv('charts/PL2_correlation_good.csv')\n",
    "# OLcorrmat.to_csv('charts/OL_correlation_good.csv')"
   ]
  },
  {
   "cell_type": "markdown",
   "id": "eaaa9f5f-b526-429b-bc1b-62657b0218ad",
   "metadata": {
    "jp-MarkdownHeadingCollapsed": true,
    "tags": []
   },
   "source": [
    "#### Conversion between matrix and dataframe"
   ]
  },
  {
   "cell_type": "code",
   "execution_count": null,
   "id": "35bea37f-d1db-4d5f-a878-7e46db4ae1ee",
   "metadata": {},
   "outputs": [],
   "source": [
    "corrdf = lambda corrmat_i: pd.DataFrame(\n",
    "    columns=[\"cl1\", \"cl2\", \"event\", \"lag\", \"strength\"],\n",
    "    data=[\n",
    "        (corrmat_i.index[iloc1], corrmat_i.index[iloc2], *corrmat_i.iloc[iloc1, iloc2])\n",
    "        for iloc1, iloc2 in zip(\n",
    "            *np.where(\n",
    "                ~np.isnan(\n",
    "                    corrmat_i.applymap(\n",
    "                        lambda x: x[-1] if not pd.isna(x) else np.nan\n",
    "                    ).to_numpy()\n",
    "                )\n",
    "            )\n",
    "        )\n",
    "    ],\n",
    ")"
   ]
  },
  {
   "cell_type": "code",
   "execution_count": null,
   "id": "2029c71c-494f-4c1e-ba9a-6bc8575d0409",
   "metadata": {},
   "outputs": [],
   "source": [
    "def corrmat(corrdf_i):\n",
    "    cluster_included = set(corrdf_i.cl1) | set(corrdf_i.cl2)\n",
    "    cm = pd.DataFrame(index=cluster_included, columns=cluster_included)\n",
    "    for _, (cl1, cl2, e, l, s) in corrdf_i[\n",
    "        [\"cl1\", \"cl2\", \"event\", \"lag\", \"strength\"]\n",
    "    ].iterrows():\n",
    "        cm.loc[cl1, cl2] = (\n",
    "            e,\n",
    "            l,\n",
    "            s,\n",
    "        )\n",
    "    return cm"
   ]
  },
  {
   "cell_type": "code",
   "execution_count": null,
   "id": "0b873443-ff2c-4e05-b98c-45f42f7bd820",
   "metadata": {},
   "outputs": [],
   "source": [
    "PL2corrdf_raw = corrdf(PL2corrmat)\n",
    "PL1corrdf_raw = corrdf(PL1corrmat)\n",
    "OLcorrdf_raw = corrdf(OLcorrmat)"
   ]
  },
  {
   "cell_type": "code",
   "execution_count": null,
   "id": "6f818c0a-3d57-4f05-a667-19dfe8a4c244",
   "metadata": {},
   "outputs": [],
   "source": [
    "PL2corrdf_raw.to_csv(\"fig4/fig4i/PL2corrdf.csv\", index=False)\n",
    "PL1corrdf_raw.to_csv(\"fig4/fig4i/PL1corrdf.csv\", index=False)\n",
    "OLcorrdf_raw.to_csv(\"fig4/fig4i/OLcorrdf.csv\", index=False)"
   ]
  },
  {
   "cell_type": "code",
   "execution_count": null,
   "id": "b2b50a71-6a60-4e41-9933-2144f81b4e2f",
   "metadata": {},
   "outputs": [],
   "source": [
    "PL2corrdf_raw = pd.read_csv(\"fig4/fig4i/PL2corrdf.csv\")\n",
    "PL1corrdf_raw = pd.read_csv(\"fig4/fig4i/PL1corrdf.csv\")\n",
    "OLcorrdf_raw = pd.read_csv(\"fig4/fig4i/OLcorrdf.csv\")"
   ]
  },
  {
   "cell_type": "markdown",
   "id": "5c487e41-95fe-4325-bc1d-067954602119",
   "metadata": {
    "jp-MarkdownHeadingCollapsed": true,
    "tags": []
   },
   "source": [
    "#### Generation of correlation matrix"
   ]
  },
  {
   "cell_type": "code",
   "execution_count": null,
   "id": "87b2aef9-7fe4-4d82-8eb2-7b14bc1ad05c",
   "metadata": {},
   "outputs": [],
   "source": [
    "collection = {\n",
    "    \"ksd\": {\n",
    "        \"PL1\": PL1_ksd,\n",
    "        \"PL2\": PL2_ksd,\n",
    "        \"OL\": OL_ksd,\n",
    "    },\n",
    "    \"corrdf_raw\": {\"PL1\": PL1corrdf_raw, \"PL2\": PL2corrdf_raw, \"OL\": OLcorrdf_raw},\n",
    "    \"corrdf\": {\"PL1\": None, \"PL2\": None, \"OL\": None},\n",
    "    \"corrdf_mch_sorted\": {\"PL1\": None, \"PL2\": None, \"OL\": None},\n",
    "}"
   ]
  },
  {
   "cell_type": "code",
   "execution_count": null,
   "id": "2c8fc4e4-4bc5-4047-a7c8-7975bdfad00b",
   "metadata": {},
   "outputs": [],
   "source": [
    "[\n",
    "    collection[\"corrdf_raw\"][dataset].query(\"event>=100\").cl1.count()\n",
    "    for dataset in [\"OL\", \"PL1\", \"PL2\"]\n",
    "]"
   ]
  },
  {
   "cell_type": "code",
   "execution_count": null,
   "id": "1035f43a-bba9-48ba-b5d4-91b317afdad8",
   "metadata": {},
   "outputs": [],
   "source": [
    "PL2_ksd.cluster_id.size * (PL2_ksd.cluster_id.size - 1) / 2, PL1_ksd.cluster_id.size * (\n",
    "    PL1_ksd.cluster_id.size - 1\n",
    ") / 2, OL_ksd.cluster_id.size * (OL_ksd.cluster_id.size - 1) / 2"
   ]
  },
  {
   "cell_type": "code",
   "execution_count": null,
   "id": "55f31440-03f9-4c44-bc73-a7252c16f2e8",
   "metadata": {},
   "outputs": [],
   "source": [
    "for dataset in [\"PL2\", \"PL1\", \"OL\"]:\n",
    "    collection[\"ksd\"][dataset].cluster_info.set_index(\n",
    "        \"cluster_id\", drop=False, inplace=True\n",
    "    )\n",
    "\n",
    "    df = collection[\"corrdf_raw\"][dataset].query(\"event>=100\").copy()\n",
    "\n",
    "    df[\"cl1_mch\"] = df.cl1.apply(collection[\"ksd\"][dataset].cluster_info.mch.get)\n",
    "    df[\"cl2_mch\"] = df.cl2.apply(collection[\"ksd\"][dataset].cluster_info.mch.get)\n",
    "\n",
    "    #     df_mch_sorted=df.copy()\n",
    "\n",
    "    #     for n,(cl1,cl2,e,l,s,cl1_mch,cl2_mch) in df_mch_sorted.iterrows():\n",
    "    #         if cl1_mch<cl2_mch:\n",
    "    #             df_mch_sorted.loc[n,:]=cl2,cl1,e,-l,s,cl2_mch,cl1_mch\n",
    "\n",
    "    df[\"cl1_depth\"] = df.cl1_mch.apply(get_depth, args=(PL2_ksd,))\n",
    "    df[\"cl2_depth\"] = df.cl2_mch.apply(get_depth, args=(PL2_ksd,))\n",
    "    df[\"delta_depth\"] = df.cl1_depth - df.cl2_depth\n",
    "\n",
    "    df[\"cl1_area\"] = df.cl1.apply(\n",
    "        collection[\"ksd\"][dataset].cluster_info.area_name.get\n",
    "    ).apply(str)\n",
    "    df[\"cl2_area\"] = df.cl2.apply(\n",
    "        collection[\"ksd\"][dataset].cluster_info.area_name.get\n",
    "    ).apply(str)\n",
    "    df[\"area\"] = df.apply(lambda x: sorted([x.cl1_area, x.cl2_area]), axis=1).apply(\n",
    "        lambda x: \"%s-%s\" % (x[0], x[1])\n",
    "    )\n",
    "\n",
    "    df[\"lag_abs\"] = df.lag.apply(np.abs)\n",
    "    df[\"strength_rating\"] = df.strength.apply(\n",
    "        lambda x: \">5\" if x > 5 else \"3-5\" if x > 3 else \"<3\"\n",
    "    )\n",
    "    df[\"lag_rating\"] = df.lag_abs.apply(\n",
    "        lambda x: \"<20ms\" if x < 0.02 else \"20-50ms\" if x < 0.05 else \">50ms\"\n",
    "    )\n",
    "\n",
    "    #     df_mch_sorted['cl1_area']=df_mch_sorted.cl1.apply(collection['ksd'][dataset].cluster_info.area_name.get).apply(str)\n",
    "    #     df_mch_sorted['cl2_area']=df_mch_sorted.cl2.apply(collection['ksd'][dataset].cluster_info.area_name.get).apply(str)\n",
    "    #     df_mch_sorted['area']=df_mch_sorted\\\n",
    "    #         .apply(lambda x: sorted([x.cl1_area,x.cl2_area]),axis=1)\\\n",
    "    #         .apply(lambda x:'%s-%s'%(x[0],x[1]))\n",
    "\n",
    "    #     df_mch_sorted['lag_abs']=df_mch_sorted.lag.apply(np.abs)\n",
    "    #     df_mch_sorted['strength_rating']=df_mch_sorted.strength.apply(lambda x: '>5' if x>5 else '3-5' if x>3  else '<3')\n",
    "    #     df_mch_sorted['lag_rating']=df_mch_sorted.lag_abs.apply(lambda x:'<20ms' if x<0.02 else '20-50ms' if x<0.05 else '>50ms')\n",
    "\n",
    "    collection[\"corrdf\"][dataset] = df\n",
    "    # collection['corrdf_mch_sorted'][dataset]=df_mch_sorted"
   ]
  },
  {
   "cell_type": "code",
   "execution_count": null,
   "id": "5086fc39-a685-4fcd-a710-59527dcc9777",
   "metadata": {},
   "outputs": [],
   "source": [
    "seperate_params = lambda a: (\n",
    "    a.map(lambda x: x[0] if not pd.isna(x) else np.nan),\n",
    "    a.map(lambda x: x[1] if not pd.isna(x) else np.nan),\n",
    "    a.map(lambda x: x[2] if not pd.isna(x) else np.nan),\n",
    ")"
   ]
  },
  {
   "cell_type": "code",
   "execution_count": null,
   "id": "ff51af3d-a062-4b4f-8176-cbceb7e8f342",
   "metadata": {},
   "outputs": [],
   "source": [
    "def corrmat_allunits(dataset):\n",
    "    sorted_clid = sorted(\n",
    "        collection[\"ksd\"][dataset].cluster_id,\n",
    "        key=collection[\"ksd\"][dataset].info.mch.get,\n",
    "    )\n",
    "\n",
    "    corrdf_i = collection[\"corrdf\"][dataset]\n",
    "    cm = pd.DataFrame(index=sorted_clid, columns=sorted_clid)\n",
    "    for _, (cl1, cl2, e, l, s) in corrdf_i[\n",
    "        [\"cl1\", \"cl2\", \"event\", \"lag\", \"strength\"]\n",
    "    ].iterrows():\n",
    "        cm.loc[cl1, cl2] = cm.loc[cl2, cl1] = (\n",
    "            e,\n",
    "            np.abs(l),\n",
    "            s,\n",
    "        )\n",
    "        # cm.loc[cl2,cl1]=(e,-l,s,)\n",
    "    return cm"
   ]
  },
  {
   "cell_type": "code",
   "execution_count": null,
   "id": "e31f0bac-d9e4-4be4-aa77-dcfdfd494b0b",
   "metadata": {},
   "outputs": [],
   "source": [
    "def gen_lag_triu_and_strength_tril_allunits(dataset):\n",
    "    paircount, lag, strength = seperate_params(corrmat_allunits(dataset))\n",
    "    lag += 1e-7  # add eps(float32) to avoid zero lag (could be removed if bin edges do not contain 0)\n",
    "    lag_triu = np.triu(lag)\n",
    "    lag_triu[lag_triu == 0] = np.nan\n",
    "    strength_tril = np.tril(strength)\n",
    "    strength_tril[strength_tril == 0] = np.nan\n",
    "    return lag_triu, strength_tril"
   ]
  },
  {
   "cell_type": "code",
   "execution_count": null,
   "id": "d7903c3d-5470-402c-a5b1-c722cf5aa68b",
   "metadata": {},
   "outputs": [],
   "source": [
    "%%time\n",
    "collection.update({\n",
    "    'lag_triu_strength_tril_allunits':{\n",
    "        'PL2':gen_lag_triu_and_strength_tril_allunits('PL2'),\n",
    "        'PL1':gen_lag_triu_and_strength_tril_allunits('PL1'),\n",
    "        'OL':gen_lag_triu_and_strength_tril_allunits('OL')\n",
    "    }\n",
    "})"
   ]
  },
  {
   "cell_type": "code",
   "execution_count": null,
   "id": "ca80ec7f-f9db-4fc9-a48f-74d03aa4b65b",
   "metadata": {},
   "outputs": [],
   "source": [
    "with open(\"fig4/fig4i.json\", \"w\") as fp:\n",
    "    json.dump(collection[\"lag_triu_strength_tril_allunits\"], fp, default=default_dump)"
   ]
  },
  {
   "cell_type": "markdown",
   "id": "0ef299ec-4711-44e2-8424-67d1a001a3a1",
   "metadata": {
    "tags": []
   },
   "source": [
    "### SI Figure 5"
   ]
  },
  {
   "cell_type": "code",
   "execution_count": null,
   "id": "ce849df7-9826-4c2e-a29f-e270e49badd3",
   "metadata": {},
   "outputs": [],
   "source": [
    "_, hb_shuffled, bin_edges = ccg(PL2_ksd, 2560, 2550)\n",
    "_, hb, _ = ccg(PL2_ksd, 2560, 2550, shuffle=0)\n",
    "pd.DataFrame(\n",
    "    {\"hb\": hb, \"hb_shuffled\": hb_shuffled, \"bin_edges\": bin_edges[:-1]}\n",
    ").to_csv(\n",
    "    \"si/si5.csv.new\", index=False\n",
    ")  # not reproducible due to random sampling"
   ]
  },
  {
   "cell_type": "markdown",
   "id": "df2b51f8",
   "metadata": {},
   "source": [
    "### Descriptive Statistics"
   ]
  },
  {
   "cell_type": "code",
   "execution_count": null,
   "id": "54b71e7d",
   "metadata": {},
   "outputs": [],
   "source": [
    "PL2_ksd_mua.cluster_count, PL1_ksd_mua.cluster_count, OL_ksd_mua.cluster_count  # (858, 552, 574)"
   ]
  },
  {
   "cell_type": "code",
   "execution_count": null,
   "id": "1c698b43",
   "metadata": {},
   "outputs": [],
   "source": [
    "PL2_ksd.cluster_count, PL1_ksd.cluster_count, OL_ksd.cluster_count  # (739, 514, 517)"
   ]
  },
  {
   "cell_type": "code",
   "execution_count": null,
   "id": "d57db86f",
   "metadata": {},
   "outputs": [],
   "source": [
    "def get_mean_std(x):\n",
    "    return np.mean(x), np.std(x)"
   ]
  },
  {
   "cell_type": "code",
   "execution_count": null,
   "id": "0316afe3",
   "metadata": {},
   "outputs": [],
   "source": [
    "(\n",
    "    \"Most sites sampled signals from multiple (%.1f ± %.1f)\"\n",
    "    \" single neurons, and each neuron was captured over multiple\"\n",
    "    \" (%.1f ± %.1f) adjacent channels\"\n",
    ") % (\n",
    "    *get_mean_std(flatten_params(PL2_ksd.density)),\n",
    "    *get_mean_std(flatten_params(PL2_ksd.spread)),\n",
    ")\n",
    "# 'Most sites sampled signals from multiple (2.9 ± 2.2) single neurons, and each neuron was captured over multiple (2.0 ± 1.3) adjacent channels'"
   ]
  },
  {
   "cell_type": "code",
   "execution_count": null,
   "id": "56b9d0e8",
   "metadata": {},
   "outputs": [],
   "source": [
    "PL2_ksd.yield_, PL1_ksd.yield_, OL_ksd.yield_\n",
    "# Each Neuroscroll probe allowed isolation of 0 to 283 neurons per structure in the monkey brain\n",
    "# ([35, 0, 115, 46, 283, 89, 5, 1, 165],\n",
    "#  [27, 190, 212, 55, 30],\n",
    "#  [58, 194, 74, 13, 103, 47, 28])"
   ]
  },
  {
   "cell_type": "code",
   "execution_count": null,
   "id": "a386adbe",
   "metadata": {},
   "outputs": [],
   "source": [
    "max(PL2_ksd.efficiency), max(PL1_ksd.efficiency), max(OL_ksd.efficiency)\n",
    "# with an efficiency of 0 to 2.08 for single neuron detection\n",
    "# (1.055045871559633, 2.0784313725490198, 1.5675675675675675)"
   ]
  },
  {
   "cell_type": "code",
   "execution_count": null,
   "id": "73ad94fb",
   "metadata": {},
   "outputs": [],
   "source": [
    "fig3i = pd.read_json(\"fig3/fig3i.json\")"
   ]
  },
  {
   "cell_type": "code",
   "execution_count": null,
   "id": "04bb6ec9",
   "metadata": {},
   "outputs": [],
   "source": [
    "def get_quartiles(x):\n",
    "    return np.percentile(x, [25, 50, 75])"
   ]
  },
  {
   "cell_type": "code",
   "execution_count": null,
   "id": "6ecedb1b",
   "metadata": {},
   "outputs": [],
   "source": [
    "np.set_printoptions(precision=2)"
   ]
  },
  {
   "cell_type": "code",
   "execution_count": null,
   "id": "51cde034",
   "metadata": {},
   "outputs": [],
   "source": [
    "get_quartiles(np.concatenate(fig3i.amplitudes.values)), get_quartiles(\n",
    "    np.concatenate(fig3i.firingrates.values)\n",
    "), get_quartiles(np.concatenate(fig3i.snr.values))\n",
    "# (array([29.39, 41.73, 60.82]),\n",
    "#  array([0.11, 0.3 , 0.71]),\n",
    "#  array([4.87, 6.87, 9.8 ]))"
   ]
  },
  {
   "cell_type": "code",
   "execution_count": null,
   "id": "139188d0",
   "metadata": {},
   "outputs": [],
   "source": [
    "max(PL1_ksd.efficiency)  # 2.0784313725490198\n",
    "# The detection efficiency reached 2.08, which was the highest among all the brain structures, and the single unit detection density of 4.09  2.45 was also significantly higher than that of other brain structures (p<0.001, one-tailed t test, Fig. 4f)."
   ]
  },
  {
   "cell_type": "code",
   "execution_count": null,
   "id": "eb42a589",
   "metadata": {},
   "outputs": [],
   "source": [
    "# shapiro test\n",
    "from scipy.stats import shapiro"
   ]
  },
  {
   "cell_type": "code",
   "execution_count": null,
   "id": "655ab01a",
   "metadata": {},
   "outputs": [],
   "source": [
    "def one_tailed_ttest(v1, v2, alternative):\n",
    "    levene_p = stats.levene(v1, v2).pvalue\n",
    "    return stats.ttest_ind(\n",
    "        v1, v2, alternative=alternative, equal_var=False if levene_p <= 0.05 else True\n",
    "    ).pvalue"
   ]
  },
  {
   "cell_type": "code",
   "execution_count": null,
   "id": "ac3e272e",
   "metadata": {},
   "outputs": [],
   "source": [
    "# Mann-Whitney U test\n",
    "def mannwhitneyu_test(v1, v2, alternative):\n",
    "    return stats.mannwhitneyu(\n",
    "        v1, v2, alternative=alternative\n",
    "    ).pvalue"
   ]
  },
  {
   "cell_type": "code",
   "execution_count": null,
   "id": "9f338890",
   "metadata": {},
   "outputs": [],
   "source": [
    "get_mean_std(PL1_ksd.density[2])\n",
    "# (4.0886075949367084, 2.4504707551749383)\n",
    "#  and the single unit detection density of 4.09  2.45 was also significantly higher than that of other brain structures (p<0.001, one-tailed t test, Fig. 4f)."
   ]
  },
  {
   "cell_type": "code",
   "execution_count": null,
   "id": "a6d0c8b7",
   "metadata": {},
   "outputs": [],
   "source": [
    "PL1_real_amp = fig3i.query(\"probe=='Probe2'\").amplitudes.values\n",
    "PL1_fr = fig3i.query(\"probe=='Probe2'\").firingrates.values\n",
    "PL1_snr = fig3i.query(\"probe=='Probe2'\").snr.values"
   ]
  },
  {
   "cell_type": "code",
   "execution_count": null,
   "id": "0ae50c8a",
   "metadata": {},
   "outputs": [],
   "source": [
    "get_quartiles(PL1_real_amp[2])\n",
    "# array([48.14, 60.19, 73.72])\n",
    "# The 60.2, 48.1 to 73.7 V amplitude of these units, reported as median and interquartile range, was also significantly larger than those of the single units resolved in other structures (p<0.001, one-tailed t test, Fig. 3i). No significant difference in firing rate was observed between this cwm and other structures (p>0.05, two-tailed t test, Fig. 3i)."
   ]
  },
  {
   "cell_type": "code",
   "execution_count": null,
   "id": "cb2b8094",
   "metadata": {},
   "outputs": [],
   "source": [
    "[shapiro(x).pvalue for x in PL1_real_amp],[shapiro(x).pvalue for x in PL1_fr],[shapiro(x).pvalue for x in PL1_snr]"
   ]
  },
  {
   "cell_type": "code",
   "execution_count": null,
   "id": "88f1f132",
   "metadata": {},
   "outputs": [],
   "source": [
    "[one_tailed_ttest(PL1_real_amp[2], PL1_real_amp[i], \"greater\") for i in [0, 1, 3, 4]]\n",
    "# [3.4118739972971877e-07,\n",
    "#  5.973566427589342e-14,\n",
    "#  3.6723587375779796e-26,\n",
    "#  1.0319707463345292e-17]"
   ]
  },
  {
   "cell_type": "code",
   "execution_count": null,
   "id": "68459899",
   "metadata": {},
   "outputs": [],
   "source": [
    "[\n",
    "    one_tailed_ttest(PL1_ksd.density[2], PL1_ksd.density[i], \"greater\")\n",
    "    for i in [0, 1, 3, 4]\n",
    "]\n",
    "# [2.698913108128788e-08,\n",
    "#  8.791070022730065e-12,\n",
    "#  2.2904678090883195e-10,\n",
    "#  0.0003566905885809061]"
   ]
  },
  {
   "cell_type": "code",
   "execution_count": null,
   "id": "084d5ee5",
   "metadata": {},
   "outputs": [],
   "source": [
    "[one_tailed_ttest(PL1_ksd.spread[2], PL1_ksd.spread[i], \"less\") for i in [0, 1, 3, 4]]\n",
    "# [0.022299014385619893,\n",
    "#  0.0025793574800696112,\n",
    "#  0.7160710963795047,\n",
    "#  0.0042187035270076865]"
   ]
  },
  {
   "cell_type": "code",
   "execution_count": null,
   "id": "82cc9355",
   "metadata": {},
   "outputs": [],
   "source": [
    "[one_tailed_ttest(PL1_fr[2], PL1_fr[i], \"two-sided\") for i in [0, 1, 3, 4]]\n",
    "# [0.8051354814485902,\n",
    "#  0.10090514940514736,\n",
    "#  0.17263982019217736,\n",
    "#  0.4586810297861196]"
   ]
  },
  {
   "cell_type": "code",
   "execution_count": null,
   "id": "aa40f0ee",
   "metadata": {},
   "outputs": [],
   "source": [
    "[one_tailed_ttest(PL1_snr[2], PL1_snr[i], \"two-sided\") for i in [0, 1, 3, 4]]\n",
    "# [0.003217364759000365,\n",
    "#  1.9032264319621314e-09,\n",
    "#  5.2921968580286685e-20,\n",
    "#  1.1689588278807964e-11]"
   ]
  },
  {
   "cell_type": "code",
   "execution_count": null,
   "id": "37d8af8d",
   "metadata": {},
   "outputs": [],
   "source": [
    "pvalues_fig3i=pd.DataFrame(\n",
    "    {\n",
    "        \"real_amp_greater\": [\n",
    "            mannwhitneyu_test(PL1_real_amp[2], PL1_real_amp[i], \"greater\")\n",
    "            for i in [0, 1, 3, 4]\n",
    "        ],\n",
    "        \"density_greater\": [\n",
    "            mannwhitneyu_test(PL1_ksd.density[2], PL1_ksd.density[i], \"greater\")\n",
    "            for i in [0, 1, 3, 4]\n",
    "        ],\n",
    "        \"spread_less\": [\n",
    "            mannwhitneyu_test(PL1_ksd.spread[2], PL1_ksd.spread[i], \"greater\")\n",
    "            for i in [0, 1, 3, 4]\n",
    "        ],\n",
    "        \"fr_two_sided\": [\n",
    "            mannwhitneyu_test(PL1_fr[2], PL1_fr[i], \"two-sided\") for i in [0, 1, 3, 4]\n",
    "        ],\n",
    "        \"snr_two_sided\": [\n",
    "            mannwhitneyu_test(PL1_snr[2], PL1_snr[i], \"two-sided\") for i in [0, 1, 3, 4]\n",
    "        ],\n",
    "    }\n",
    ")"
   ]
  },
  {
   "cell_type": "code",
   "execution_count": null,
   "id": "7f934c54",
   "metadata": {},
   "outputs": [],
   "source": [
    "pvalues_fig3i.index=['%s-%s'%(PL1_ksd.area_names[2],PL1_ksd.area_names[i]) for i in [0,1,3,4]]"
   ]
  },
  {
   "cell_type": "code",
   "execution_count": null,
   "id": "81c98e21",
   "metadata": {},
   "outputs": [],
   "source": [
    "pvalues_fig3i.to_csv(\"fig3/fig3i_pvalues.csv\")"
   ]
  },
  {
   "cell_type": "code",
   "execution_count": null,
   "id": "0682d01e",
   "metadata": {},
   "outputs": [],
   "source": [
    "# PL2_real_amp=get_params_grouped_by_area(PL2_ksd,'real_amp')\n",
    "\n",
    "# PL2_fr=get_params_grouped_by_area(PL2_ksd,'fr')\n",
    "# [one_tailed_ttest(PL2_real_amp[5],PL2_real_amp[i],'greater') for i in [0,2,3,4,8]]\n",
    "# [one_tailed_ttest(PL2_fr[5],PL2_fr[i],'two-sided') for i in [0,2,3,4,8]]\n",
    "# [one_tailed_ttest(PL2_ksd.density[5],PL2_ksd.density[i],'two-sided') for i in [0,2,3,4,8]]"
   ]
  }
 ],
 "metadata": {
  "kernelspec": {
   "display_name": "Python 3 (ipykernel)",
   "language": "python",
   "name": "python3"
  },
  "language_info": {
   "codemirror_mode": {
    "name": "ipython",
    "version": 3
   },
   "file_extension": ".py",
   "mimetype": "text/x-python",
   "name": "python",
   "nbconvert_exporter": "python",
   "pygments_lexer": "ipython3",
   "version": "3.9.18"
  },
  "toc-autonumbering": false,
  "toc-showcode": false,
  "toc-showmarkdowntxt": false,
  "toc-showtags": false
 },
 "nbformat": 4,
 "nbformat_minor": 5
}
