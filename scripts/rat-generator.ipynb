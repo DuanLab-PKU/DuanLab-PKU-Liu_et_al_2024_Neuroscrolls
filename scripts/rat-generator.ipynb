{
 "cells": [
  {
   "cell_type": "markdown",
   "id": "bac7fe70-1b14-4bb2-9329-40141fe65d0d",
   "metadata": {
    "tags": []
   },
   "source": [
    "# Generate data of rat\n",
    "\n",
    "Round 1 2023.11.7\n",
    "\n",
    "Round 2 2024.2.21"
   ]
  },
  {
   "cell_type": "code",
   "execution_count": null,
   "id": "479ffe5e-17cf-4992-b251-d5d6e56c9a2a",
   "metadata": {},
   "outputs": [],
   "source": [
    "%matplotlib inline"
   ]
  },
  {
   "cell_type": "code",
   "execution_count": null,
   "id": "98b7b980-e3ed-48e0-b377-e8637102c7e4",
   "metadata": {},
   "outputs": [],
   "source": [
    "import time\n",
    "time.asctime()"
   ]
  },
  {
   "cell_type": "code",
   "execution_count": null,
   "id": "cb30a527-2e0e-4d82-bae9-c149efdd4afb",
   "metadata": {},
   "outputs": [],
   "source": [
    "RAT_RAWDATA_PATH='.../128/'\n",
    "FIGURE_DATA_PATH='.../paper/figure_data_linux'"
   ]
  },
  {
   "cell_type": "code",
   "execution_count": null,
   "id": "e84ddf4e-a12e-4f1c-a70b-6775b68c79fc",
   "metadata": {},
   "outputs": [],
   "source": [
    "import glob\n",
    "import os\n",
    "\n",
    "import pandas as pd\n",
    "import numpy as np\n",
    "import json\n",
    "\n",
    "import matplotlib.pyplot as plt\n",
    "import matplotlib.ticker as ticker\n",
    "import seaborn as sns\n",
    "\n",
    "from ksd import KSD\n",
    "\n",
    "from ksd.utils.noise_utils import extract_rawdata,calc_noise,butter_lowpass_filter,notch_filter\n",
    "\n",
    "querystr='(group==\"good\")'\n",
    "\n",
    "get_tp=lambda rat:metadata[metadata.curated&(metadata.rat==rat)].timepoint_int.values\n",
    "\n",
    "KSD.__version__"
   ]
  },
  {
   "cell_type": "code",
   "execution_count": null,
   "id": "50525bd1",
   "metadata": {},
   "outputs": [],
   "source": [
    "os.chdir(FIGURE_DATA_PATH)\n",
    "FIGURE_DATA_PATH"
   ]
  },
  {
   "cell_type": "markdown",
   "id": "d88511f8-a7e7-465a-aeb7-ff804de520b0",
   "metadata": {
    "tags": []
   },
   "source": [
    "## Import, Label and Run"
   ]
  },
  {
   "cell_type": "markdown",
   "id": "bd211967-62bd-4519-83b6-5ea4b3d6422b",
   "metadata": {
    "tags": []
   },
   "source": [
    "### Metadata generation"
   ]
  },
  {
   "cell_type": "code",
   "execution_count": null,
   "id": "ca74d535-2e22-49fb-89b1-07f911b09321",
   "metadata": {},
   "outputs": [],
   "source": [
    "folders=[]\n",
    "folders.extend(glob.glob(os.path.join(RAT_RAWDATA_PATH,'rat????/week*')))\n",
    "folders.extend(glob.glob(os.path.join(RAT_RAWDATA_PATH,'rat????/acute')))\n",
    "\n",
    "metadata=pd.DataFrame(data={'directory':folders})\n",
    "\n",
    "metadata['hasrhdfile']=metadata.directory.apply(lambda x: glob.glob(os.path.join(x,'*.rhd'))).apply(lambda x: len(x))\n",
    "\n",
    "metadata['duplicated']=metadata.hasrhdfile.apply(lambda x:x>1)\n",
    "\n",
    "metadata['converted']=metadata.directory.apply(lambda x: glob.glob(os.path.join(x,'*.bin'))).apply(lambda x: len(x)==1)\n",
    "\n",
    "metadata['rat']=metadata.directory.apply(lambda x:x.split('/')[-2])\n",
    "\n",
    "metadata['timepoint']=metadata.directory.apply(lambda x:x.split('/')[-1])\n",
    "\n",
    "metadata['timepoint_int']=metadata.timepoint.apply(lambda x: 0 if x == 'acute' else eval(x[4:]))\n",
    "\n",
    "metadata['rhdfilename']=metadata.apply(lambda x:os.path.basename(glob.glob(os.path.join(x.directory,'*.rhd'))[0]) if x.hasrhdfile else None ,axis=1)\n",
    "\n",
    "metadata['binfilename']=metadata.apply(lambda x:'%s_%s_%s.bin'%(x.rhdfilename[-17:-4],x.rat,x.timepoint) if x.hasrhdfile else None,axis=1)\n",
    "\n",
    "metadata['whitened']=metadata.directory.apply(lambda x: glob.glob(os.path.join(x,'temp_wh.dat'))).apply(lambda x: len(x)==1)\n",
    "\n",
    "metadata['filtered']=metadata.directory.apply(lambda x: glob.glob(os.path.join(x,'temp_filtered.dat'))).apply(lambda x: len(x)==1)\n",
    "\n",
    "metadata['executed']=metadata.directory.apply(lambda x: os.path.exists(os.path.join(x,'kilosort3')))\n",
    "\n",
    "metadata['postprocessed']=metadata.directory.apply(lambda x: glob.glob(os.path.join(x,'kilosort3_*'))).apply(lambda x: len(x)==1)\n",
    "\n",
    "metadata['postprocess_directory']=metadata.directory.apply(lambda x: glob.glob(os.path.join(x,'kilosort3_*'))).apply(lambda x: x[0] if len(x)>0 else None)\n",
    "\n",
    "metadata['curated']=metadata.postprocess_directory.apply(lambda x: False if x is None else len(glob.glob(os.path.join(x,'cluster_info.tsv')))>0)\n",
    "\n",
    "metadata['ksd_processed']=\\\n",
    "metadata.postprocess_directory.apply(lambda x: os.path.exists(os.path.join(x,'ksd_v1.5'))if x is not None else False)\n",
    "\n",
    "metadata.sort_values('timepoint_int',inplace=True)"
   ]
  },
  {
   "cell_type": "code",
   "execution_count": null,
   "id": "0850354a-3fe2-4b48-b8f8-552424b4817c",
   "metadata": {},
   "outputs": [],
   "source": [
    "rats=metadata[metadata.curated].rat.unique()\n",
    "# rats=['rat0708', 'rat0401', 'rat0317', 'rat0529', 'rat0514', 'rat0324']\n",
    "rats"
   ]
  },
  {
   "cell_type": "code",
   "execution_count": null,
   "id": "10b7abf8-12c8-42db-b798-62f03ec923ec",
   "metadata": {},
   "outputs": [],
   "source": [
    "def default_dump(obj): # https://blog.csdn.net/weixin_39561473/article/details/123227500\n",
    "    \"\"\"Convert numpy classes to JSON serializable objects.\"\"\"\n",
    "    if isinstance(obj, (np.integer, np.floating, np.bool_)):\n",
    "        return obj.item()\n",
    "    elif isinstance(obj, np.ndarray):\n",
    "        return obj.tolist()\n",
    "    else:\n",
    "        return obj"
   ]
  },
  {
   "cell_type": "markdown",
   "id": "caf2726b-67eb-44c3-83a7-90ff850c390c",
   "metadata": {
    "jp-MarkdownHeadingCollapsed": true,
    "tags": []
   },
   "source": [
    "### Batch labelling (except for rat0317)"
   ]
  },
  {
   "cell_type": "code",
   "execution_count": null,
   "id": "e8c07510-b292-4f6c-9928-c4b43a5d1349",
   "metadata": {},
   "outputs": [],
   "source": [
    "# metadata[(metadata.curated)&(~metadata.ksd_processed)]"
   ]
  },
  {
   "cell_type": "code",
   "execution_count": null,
   "id": "97e0aedb-a456-4c60-8d44-43a5757e9868",
   "metadata": {
    "scrolled": true,
    "tags": []
   },
   "outputs": [],
   "source": [
    "# for d in metadata.loc[metadata.curated&(metadata.rat!='rat0317'),'postprocess_directory']:\n",
    "# # for d in metadata.loc[metadata.curated&(metadata.rat=='rat0708')&(metadata.timepoint_int==4),'postprocess_directory']:\n",
    "\n",
    "#     print(d)\n",
    "#     cluster_info=pd.read_csv(os.path.join(d,'cluster_info.tsv'),sep='\\t')\n",
    "#     cluster_info.loc[(cluster_info.group!='noise')&(cluster_info.imp<5)&(cluster_info.fr>0.03)&(cluster_info.isi==0),'group']='good'\n",
    "#     cluster_info.loc[(cluster_info.group!='noise')&(cluster_info.imp<5)&(cluster_info.fr>0.03)&(cluster_info.isi>0),'group']='mua'\n",
    "#     cluster_info.loc[pd.isna(cluster_info.group),'group']='unsorted'\n",
    "#     cluster_info.to_csv(os.path.join(d,'cluster_info.tsv'),sep='\\t',index=False)\n",
    "\n",
    "#     cluster_info[['cluster_id','group']].to_csv(os.path.join(d,'cluster_group.tsv'),sep='\\t',index=False)"
   ]
  },
  {
   "cell_type": "markdown",
   "id": "a8cfeb68-04c6-4cfa-9bfb-f3e09d4ca85e",
   "metadata": {
    "jp-MarkdownHeadingCollapsed": true,
    "tags": []
   },
   "source": [
    "### Batch run KSD (and save)"
   ]
  },
  {
   "cell_type": "code",
   "execution_count": null,
   "id": "74517088-f011-4542-9e6e-3a8a4ecb97b9",
   "metadata": {},
   "outputs": [],
   "source": [
    "# querystr='(group==\"good\")'\n",
    "# querystr='(group==\"good\")|(group==\"mua\")'"
   ]
  },
  {
   "cell_type": "code",
   "execution_count": null,
   "id": "a71bcbd6-29b8-4d8a-af38-bdcc4de28633",
   "metadata": {},
   "outputs": [],
   "source": [
    "def run_ksd(d):\n",
    "    print(d)\n",
    "    ksd_instance=KSD(\n",
    "        d,\n",
    "        phy_subset_dir=os.path.join(d,'subset_onlyfilter'),\n",
    "        querystr='(group==\"good\")|(group==\"mua\")',\n",
    "        load_subset=True,\n",
    "        load_if_exists=False,\n",
    "        mmap_mode=None,\n",
    "        subfolder='ksd_v1.5',\n",
    "        imp_threshold=5\n",
    "    )\n",
    "    ksd_instance.save()"
   ]
  },
  {
   "cell_type": "code",
   "execution_count": null,
   "id": "ab4c8f8f-0f78-4b99-baf5-219a913e399f",
   "metadata": {
    "scrolled": true,
    "tags": []
   },
   "outputs": [],
   "source": [
    "# %%time\n",
    "# rats=['rat1203','rat0415','rat0325','rat0401']\n",
    "# rats=['rat0317']\n",
    "# for rat in rats:\n",
    "#     metadata[metadata.curated&(metadata.rat==rat)&(~metadata.ksd_processed)]\\\n",
    "#     .postprocess_directory.apply(run_ksd)   "
   ]
  },
  {
   "cell_type": "markdown",
   "id": "66631bb4-7691-4b0a-a1b7-0a0aa2f86be2",
   "metadata": {
    "tags": []
   },
   "source": [
    "### Batch run KSD (without saving)"
   ]
  },
  {
   "cell_type": "code",
   "execution_count": null,
   "id": "7ec0b5e6-ec00-4813-8ebe-1ab416bbf6c7",
   "metadata": {},
   "outputs": [],
   "source": [
    "def return_ksd_instance(d,q,load_subset=False):\n",
    "    print(d)\n",
    "    ksd_instance=KSD(\n",
    "        d,\n",
    "        phy_subset_dir=os.path.join(d,'subset_onlyfilter'),\n",
    "        querystr=q,\n",
    "        load_subset=load_subset,\n",
    "        imp_threshold=5, # for rats, determined on 2022.10.22\n",
    "        subfolder='ksd_v1.5', # 2022.11.5\n",
    "        mmap_mode=None,\n",
    "    )\n",
    "    ksd_instance.run()\n",
    "    return ksd_instance"
   ]
  },
  {
   "cell_type": "code",
   "execution_count": null,
   "id": "a962bff6-64fc-4266-9c77-073b35494651",
   "metadata": {},
   "outputs": [],
   "source": [
    "rats=['rat0529', 'rat0514', 'rat0401', 'rat0317', 'rat0708', 'rat0324']"
   ]
  },
  {
   "cell_type": "code",
   "execution_count": null,
   "id": "7031546b-c161-4294-b2bf-dd53c917dcfe",
   "metadata": {
    "scrolled": true,
    "tags": []
   },
   "outputs": [],
   "source": [
    "%%time\n",
    "# metadata['ksd_all']=None\n",
    "# metadata.loc[metadata.curated,'ksd_all']=metadata[metadata.curated].postprocess_directory.apply(\n",
    "#     return_ksd_instance,args=(None,))\n",
    "# metadata['ksd_good_mua']=None\n",
    "# metadata.loc[metadata.query('(rat in @rats)&curated').index,'ksd_good_mua']=\\\n",
    "# metadata.query('(rat in @rats)&curated').postprocess_directory.apply(\n",
    "#     return_ksd_instance,args=('((group==\"good\")|(group==\"mua\"))&(fr>0.1)',False))\n",
    "metadata['ksd_good']=None\n",
    "metadata.loc[metadata.query('(rat in @rats)&curated').index,'ksd_good']=\\\n",
    "metadata.query('(rat in @rats)&curated').postprocess_directory.apply(\n",
    "    return_ksd_instance,args=('(group==\"good\")&(fr>0.1)',False))\n",
    "# metadata['ksd_mua']=None\n",
    "# metadata.loc[metadata.query('(rat in @rats)&curated').index,'ksd_mua']=\\\n",
    "# metadata.query('(rat in @rats)&curated').postprocess_directory.apply(\n",
    "#     return_ksd_instance,args=('(group==\"mua\")&(fr>0.1)',False))"
   ]
  },
  {
   "cell_type": "markdown",
   "id": "561cef23-168f-4db8-bbd5-5d9841ecfa3b",
   "metadata": {},
   "source": [
    "---"
   ]
  },
  {
   "cell_type": "markdown",
   "id": "987101a4-4110-47cb-94a6-9b406b885695",
   "metadata": {},
   "source": [
    "<h1><center><b><font size=6>Analysis part below</font></b></center></h1>"
   ]
  },
  {
   "cell_type": "markdown",
   "id": "08ed4de0-da67-494f-96fb-53ebf30472d1",
   "metadata": {
    "tags": []
   },
   "source": [
    "## Figure 2 Upper Part"
   ]
  },
  {
   "cell_type": "markdown",
   "id": "48bac118-c165-4cb8-8fc7-ad0f8767df90",
   "metadata": {
    "tags": []
   },
   "source": [
    "### Data selection"
   ]
  },
  {
   "cell_type": "code",
   "execution_count": null,
   "id": "acb3beca-2965-4679-9137-22c4956abf75",
   "metadata": {},
   "outputs": [],
   "source": [
    "metadata['good_cluster_count']=metadata.ksd_good.apply(lambda x:None if x is None else x.cluster_id.__len__())\n",
    "\n",
    "fig2_metadata=metadata.query(\n",
    "    '((rat==\"rat0324\")&(timepoint==\"week16\"))|'\\\n",
    "    '((rat==\"rat0401\")&(timepoint==\"week11\"))|'\\\n",
    "    '((rat==\"rat0514\")&(timepoint==\"week7\"))|'\\\n",
    "    '((rat==\"rat0529\")&(timepoint==\"week12\"))|'\\\n",
    "    '((rat==\"rat0708\")&(timepoint==\"week11\"))|'\\\n",
    "    '((rat==\"rat0317\")&(timepoint==\"week37\"))')\\\n",
    "        .copy()\n",
    "fig2l_metadata=fig2_metadata.copy()\n",
    "\n",
    "fig2l_metadata.index=range(len(fig2l_metadata))\n",
    "\n",
    "new_order=np.zeros(6,dtype=int)\n",
    "for n,i in enumerate([fig2l_metadata.query('rat==@rat').index.values[0] \n",
    "     for rat in [\"rat0324\",\"rat0401\",\"rat0514\",\"rat0529\",\"rat0708\",\"rat0317\"]]):\n",
    "    new_order[n]=i\n",
    "\n",
    "fig2l_metadata = fig2l_metadata.reindex(new_order)\n",
    "\n",
    "\n",
    "fig2l_metadata['rat_index']=['rat%d'%i for i in range(1,len(fig2l_metadata)+1)]\n",
    "\n",
    "fig2u_metadata=fig2l_metadata.head(5).copy()\n",
    "fig2l_metadata[['rat_index','rat','timepoint','good_cluster_count']]"
   ]
  },
  {
   "cell_type": "markdown",
   "id": "bf636ef8-9a47-4561-9be9-354c614d8d7b",
   "metadata": {},
   "source": [
    "### Figure 2c"
   ]
  },
  {
   "cell_type": "markdown",
   "id": "77c337fb-83b4-45f9-bd79-cf1dbe16ce70",
   "metadata": {
    "tags": []
   },
   "source": [
    "#### LFP & Raw Trace"
   ]
  },
  {
   "cell_type": "code",
   "execution_count": null,
   "id": "192d6b73-f99f-4a2a-a405-a74bd0f29e35",
   "metadata": {
    "tags": []
   },
   "outputs": [],
   "source": [
    "r0708w11_ap=extract_rawdata(\n",
    "    metadata.query('rat==\"rat0708\"&timepoint==\"week11\"').directory.values[0]+'/temp_filtered.dat',\n",
    "    skip=30,\n",
    "    window=2\n",
    ")"
   ]
  },
  {
   "cell_type": "code",
   "execution_count": null,
   "id": "33da3f3b",
   "metadata": {},
   "outputs": [],
   "source": [
    "r0708w11_raw=extract_rawdata(\n",
    "    metadata.query('rat==\"rat0708\"&timepoint==\"week11\"').directory.values[0]+'/220919_214327_rat0708_week11.bin',\n",
    "    skip=30,\n",
    "    window=2\n",
    ")"
   ]
  },
  {
   "cell_type": "code",
   "execution_count": null,
   "id": "003ba5d4",
   "metadata": {},
   "outputs": [],
   "source": [
    "r0708w11_lfp=butter_lowpass_filter(r0708w11_raw,300,20000)"
   ]
  },
  {
   "cell_type": "code",
   "execution_count": null,
   "id": "688a02de",
   "metadata": {},
   "outputs": [],
   "source": [
    "r0708w11_lfp=notch_filter(r0708w11_lfp,20000)"
   ]
  },
  {
   "cell_type": "code",
   "execution_count": null,
   "id": "49d69eab-6953-41c4-a3b0-c7db262739a4",
   "metadata": {},
   "outputs": [],
   "source": [
    "lfp_ch=[0,10,20,30,40,50,60,70,79,90,100,109,119]"
   ]
  },
  {
   "cell_type": "code",
   "execution_count": null,
   "id": "61264cb4",
   "metadata": {},
   "outputs": [],
   "source": [
    "np.savetxt('fig2/fig2c_lfp.csv',r0708w11_lfp[20000:30000,lfp_ch],delimiter=',')\n",
    "np.savetxt('fig2/fig2c_ap.csv',r0708w11_ap[20000:30000,lfp_ch],delimiter=',')"
   ]
  },
  {
   "cell_type": "markdown",
   "id": "0a8b558f-62bc-46e5-b337-63a50558c5a3",
   "metadata": {
    "tags": []
   },
   "source": [
    "#### Raster Plot"
   ]
  },
  {
   "cell_type": "code",
   "execution_count": null,
   "id": "921d9d2f-c53c-4857-a2df-b7f097b4f660",
   "metadata": {},
   "outputs": [],
   "source": [
    "r0708w11ksd=metadata.query('rat==\"rat0708\"&timepoint==\"week11\"').ksd_good.values[0]"
   ]
  },
  {
   "cell_type": "code",
   "execution_count": null,
   "id": "b3c5644f-b030-46b8-aa0f-d4df4b841b69",
   "metadata": {},
   "outputs": [],
   "source": [
    "st_dict=[]\n",
    "for _,(clid,depth,n_spikes) in r0708w11ksd.info[['cluster_id','depth','n_spikes']].iterrows():\n",
    "    print(clid,end='\\t\\r')\n",
    "    st=r0708w11ksd.spike_times[\n",
    "            (r0708w11ksd.spike_times>31*20000)&\\\n",
    "            (r0708w11ksd.spike_times<31.5*20000)&\\\n",
    "            (r0708w11ksd.spike_clusters==clid)]/20000\n",
    "    st_dict.append({'cluster_id':clid,'spike_times':st.tolist(),'depth':depth})\n",
    "pd.DataFrame(st_dict).to_excel('fig2/fig2c_raster_plot.xlsx',index=False)"
   ]
  },
  {
   "cell_type": "markdown",
   "id": "d23af85d-35ec-4199-8bff-07e5b2833de7",
   "metadata": {
    "tags": []
   },
   "source": [
    "### Figure 2d"
   ]
  },
  {
   "cell_type": "code",
   "execution_count": null,
   "id": "5d1ecca2-df35-4c6a-9240-5d76adea0cb9",
   "metadata": {},
   "outputs": [],
   "source": [
    "# compute_rms=lambda x,axis=0:np.sqrt(np.mean(x**2,axis)) # replaced by MAD/0.6745\n",
    "def calc_snr(x):\n",
    "    cluster_info=x.ksd_good.info\n",
    "    rms=x.channel_RMS\n",
    "    return cluster_info.apply(lambda cl:cl.real_amp/rms[cl.mch],axis=1).values # real_amp_pp before 2022.12.5"
   ]
  },
  {
   "cell_type": "code",
   "execution_count": null,
   "id": "ca360c1c",
   "metadata": {},
   "outputs": [],
   "source": [
    "fig2u_metadata['binfilename']=fig2u_metadata.apply(lambda x:glob.glob(os.path.join(x.directory,'*.bin'))[0],axis=1)\n",
    "fig2u_metadata['channel_RMS']=fig2u_metadata.binfilename\\\n",
    "    .apply(calc_noise)\n",
    "fig2u_metadata['channel_RMS']=fig2u_metadata['channel_RMS'].apply(lambda x:x.mad_hp.values)\n",
    "fig2u_metadata['snr']=fig2u_metadata.apply(calc_snr,axis=1)"
   ]
  },
  {
   "cell_type": "code",
   "execution_count": null,
   "id": "97392105-eaf7-40d1-b00d-3031796c7d4c",
   "metadata": {},
   "outputs": [],
   "source": [
    "efficiencies=[k.efficiency[0] for _,(r,k) in fig2u_metadata[['rat','ksd_good']].iterrows()]\n",
    "yields=[k.yield_[0] for _,(r,k) in fig2u_metadata[['rat','ksd_good']].iterrows()]\n",
    "yields_good_mua=[k.yield_[0] for _,(r,k) in fig2u_metadata[['rat','ksd_good_mua']].iterrows()]\n",
    "yields_mua=[i-j for i,j in zip(yields_good_mua,yields)]\n",
    "frs=[k.info.fr.values for _,(r,k) in fig2u_metadata[['rat','ksd_good']].iterrows()]"
   ]
  },
  {
   "cell_type": "code",
   "execution_count": null,
   "id": "c20cbc8f-ffa6-4f27-9f0e-9705c4cac8f2",
   "metadata": {},
   "outputs": [],
   "source": [
    "amplitudes=[k.info.real_amp.values for _,(r,k) in fig2u_metadata[['rat','ksd_good']].iterrows()]\n",
    "snrs=[k for _,(r,k) in fig2u_metadata[['rat','snr']].iterrows()]\n",
    "frs=[k.info.fr.values for _,(r,k) in fig2u_metadata[['rat','ksd_good']].iterrows()]\n",
    "densities=[k.density[0] for _,(r,k) in fig2u_metadata[['rat','ksd_good']].iterrows()]\n",
    "spreads=[k.spread[0] for _,(r,k) in fig2u_metadata[['rat','ksd_good']].iterrows()]"
   ]
  },
  {
   "cell_type": "code",
   "execution_count": null,
   "id": "85af432c-1734-4c7f-bc04-8cd51b99af2e",
   "metadata": {},
   "outputs": [],
   "source": [
    "fig2d=dict(efficiencies=efficiencies,\n",
    "           yields=yields,\n",
    "           yields_good_mua=yields_good_mua,\n",
    "           yields_mua=yields_mua,\n",
    "           amplitudes=amplitudes,\n",
    "           snrs=snrs,\n",
    "           frs=frs,\n",
    "           densities=densities,\n",
    "           spreads=spreads\n",
    "          )"
   ]
  },
  {
   "cell_type": "code",
   "execution_count": null,
   "id": "ef24b6ad-64c5-4c19-96dc-f054649b01be",
   "metadata": {},
   "outputs": [],
   "source": [
    "with open('fig2/fig2d.json','w') as fp:\n",
    "    json.dump(fig2d,fp,default=default_dump,indent=4)"
   ]
  },
  {
   "cell_type": "markdown",
   "id": "d73974bf-4ec7-459e-b186-198bf58c8273",
   "metadata": {},
   "source": [
    "### Figure 2e & Extended Data Figure 6a"
   ]
  },
  {
   "cell_type": "code",
   "execution_count": null,
   "id": "f58aba2b-7e70-489b-bd38-a9c0d25de86c",
   "metadata": {},
   "outputs": [],
   "source": [
    "fig2u_raw_trace_selected={\n",
    "    'week41':[0.88],\n",
    "    # 'week85':[74.8],\n",
    "    # 'week100':[142.0],\n",
    "    'week105':[139.4]\n",
    "}\n",
    "\n",
    "for n,(tp,tstarts) in enumerate(fig2u_raw_trace_selected.items()):\n",
    "    for tstart in tstarts:\n",
    "        rt=extract_rawdata(RAT_RAWDATA_PATH+'rat0317/%s/temp_filtered.dat'%tp,skip=tstart,window=0.2)\n",
    "        np.savetxt('fig2/fig2e_raw_trace_%s.csv'%tp,rt,delimiter=',')"
   ]
  },
  {
   "cell_type": "code",
   "execution_count": null,
   "id": "6295855e",
   "metadata": {},
   "outputs": [],
   "source": [
    "fig2u_raw_trace_selected={\n",
    "    'acute':[30.2783,],\n",
    "    'week16':[241.4658,],\n",
    "    'week33':[23.6675,]\n",
    "}\n",
    "\n",
    "for n,(tp,tstarts) in enumerate(fig2u_raw_trace_selected.items()):\n",
    "    for tstart in tstarts:\n",
    "        rt=extract_rawdata(RAT_RAWDATA_PATH+'rat0324/%s/temp_filtered.dat'%tp,skip=tstart,window=0.05)\n",
    "        np.savetxt('ext/ext6a_raw_trace_%s.csv'%tp,rt,delimiter=',')"
   ]
  },
  {
   "cell_type": "markdown",
   "id": "31f81991-1d51-430b-9a55-bf8af004b082",
   "metadata": {
    "tags": []
   },
   "source": [
    "### Figure 2f & Extended Data Figure 6b"
   ]
  },
  {
   "cell_type": "code",
   "execution_count": null,
   "id": "70ee10ff-c64b-4df2-831f-08af6de715b0",
   "metadata": {},
   "outputs": [],
   "source": [
    "fig2f={}\n",
    "for tp in [0,4,10,12,16,21,25,29,33,37,41,47,52,64,77,85,100,105]:\n",
    "    ksd_instance=metadata.loc[(metadata.rat=='rat0317')&(metadata.timepoint_int==tp),'ksd_good'].values[0]\n",
    "    mwf=ksd_instance.mean_waveforms\n",
    "    mwf_array=[]\n",
    "    for chid in range(69,85): # 54 - 80 (both included, counting from 1)\n",
    "        this_chid_mwf_array=[]\n",
    "        mch_clids=ksd_instance.info.query('mch==@chid').cluster_id.values\n",
    "        if mch_clids is not None:\n",
    "            for clid in mch_clids:\n",
    "                this_chid_mwf_array.append((mwf.get(clid).get(chid)[21:-21]-mwf.get(clid).get(chid)[21]).tolist())\n",
    "        mwf_array.append(this_chid_mwf_array)\n",
    "    fig2f.update({str(tp):mwf_array})"
   ]
  },
  {
   "cell_type": "code",
   "execution_count": null,
   "id": "2fa1b1c5-1ba1-4baf-9c90-740d1bf943ec",
   "metadata": {},
   "outputs": [],
   "source": [
    "with open('fig2/fig2f.json','w') as fp:\n",
    "    json.dump(fig2f,fp)"
   ]
  },
  {
   "cell_type": "code",
   "execution_count": null,
   "id": "a0a18b53",
   "metadata": {},
   "outputs": [],
   "source": [
    "fig2f={}\n",
    "for tp in [0,3,5,7,9,11,13,15,17,19,21,23,25,27,29,31,33]:\n",
    "    ksd_instance=metadata.loc[(metadata.rat=='rat0324')&(metadata.timepoint_int==tp),'ksd_good'].values[0]\n",
    "    mwf=ksd_instance.mean_waveforms\n",
    "    mwf_array=[]\n",
    "\n",
    "    for chid in range(48,70):\n",
    "\n",
    "        this_chid_mwf_array=[]\n",
    "        mch_clids=ksd_instance.info.query('mch==@chid').cluster_id.values\n",
    "        if mch_clids is not None:\n",
    "            for clid in mch_clids:\n",
    "                this_chid_mwf_array.append((mwf.get(clid).get(chid)[21:-21]-mwf.get(clid).get(chid)[21]).tolist())\n",
    "        mwf_array.append(this_chid_mwf_array)\n",
    "    fig2f.update({str(tp):mwf_array})"
   ]
  },
  {
   "cell_type": "code",
   "execution_count": null,
   "id": "d5341a8b",
   "metadata": {},
   "outputs": [],
   "source": [
    "with open('ext/ext6b.json','w') as fp:\n",
    "    json.dump(fig2f,fp)"
   ]
  },
  {
   "cell_type": "markdown",
   "id": "805fc486",
   "metadata": {},
   "source": [
    "## Figure 2 Lower Part"
   ]
  },
  {
   "cell_type": "markdown",
   "id": "1f8839bb-d86a-46d5-b597-929899207811",
   "metadata": {},
   "source": [
    "### Figure 2j"
   ]
  },
  {
   "cell_type": "markdown",
   "id": "baa746c2-3f1c-45e5-8b82-7183fc57aa1c",
   "metadata": {
    "jp-MarkdownHeadingCollapsed": true,
    "tags": []
   },
   "source": [
    "#### Long-term recording stability"
   ]
  },
  {
   "cell_type": "code",
   "execution_count": null,
   "id": "a7a3970f-92ee-42b6-8620-5afe7217862f",
   "metadata": {},
   "outputs": [],
   "source": [
    "get_channels_have_signals_count=lambda rat,q:metadata.loc[metadata.curated&(metadata.rat==rat),q]\\\n",
    ".apply(lambda x:x.channels_have_signals_count)\n",
    "get_cluster_count=lambda rat,q:metadata.loc[metadata.curated&(metadata.rat==rat),q]\\\n",
    ".apply(lambda x:x.cluster_id.__len__())\n",
    "get_tot_fr=lambda rat,q:metadata.loc[metadata.curated&(metadata.rat==rat),q].apply(lambda x:x.info.fr.sum())\n",
    "get_fr_values=lambda rat,q:metadata.loc[metadata.curated&(metadata.rat==rat),q].apply(lambda x:x.info.fr.values)\n",
    "get_imp=lambda rat:metadata.loc[metadata.curated&(metadata.rat==rat),'ksd_good']\\\n",
    ".apply(lambda x:x.imp.query('imp<5').imp.values)\n",
    "get_amp=lambda rat,q:metadata.loc[metadata.curated&(metadata.rat==rat),q].apply(lambda x:x.info.real_amp.values) # 24.3.29"
   ]
  },
  {
   "cell_type": "code",
   "execution_count": null,
   "id": "5aea7f49-adc4-46ba-a285-05329d754d1f",
   "metadata": {},
   "outputs": [],
   "source": [
    "fig2j={}\n",
    "for rat in fig2l_metadata.rat.unique():\n",
    "    fig2j.update({\n",
    "        rat:{\n",
    "            'tp':get_tp(rat),\n",
    "            'cluster_count':get_cluster_count(rat,'ksd_good').values,\n",
    "            'tot_fr':get_tot_fr(rat,'ksd_good').values,\n",
    "            'fr_values':get_fr_values(rat,'ksd_good').values,\n",
    "            'amp':get_amp(rat,'ksd_good').values,\n",
    "            'channels_have_signals_count':get_channels_have_signals_count(rat,'ksd_good').values\n",
    "        }\n",
    "    })\n",
    "\n",
    "with open('fig2/fig2j.json','w') as fp:\n",
    "    json.dump(fig2j,fp,default=default_dump)"
   ]
  },
  {
   "cell_type": "markdown",
   "id": "5126f89a-9fb2-4120-bba9-6ef2c1b3dc87",
   "metadata": {
    "tags": []
   },
   "source": [
    "#### correlation test"
   ]
  },
  {
   "cell_type": "code",
   "execution_count": null,
   "id": "a4fa6986-c00d-4aea-a502-151e8b8db02a",
   "metadata": {},
   "outputs": [],
   "source": [
    "from scipy.stats import linregress"
   ]
  },
  {
   "cell_type": "code",
   "execution_count": null,
   "id": "18b0ef33-387d-466d-b782-44b52684f5c0",
   "metadata": {},
   "outputs": [],
   "source": [
    "skip_samples=0\n",
    "fig2l_metadata['fr_lr_res']=fig2l_metadata.rat.apply(\n",
    "    lambda x:linregress(get_tp(x)[skip_samples:]*7,get_tot_fr(x,'ksd_good').apply(np.log10)[skip_samples:],\n",
    "                        'less'))\n",
    "fig2l_metadata['nc_lr_res']=fig2l_metadata.rat.apply(\n",
    "    lambda x:linregress(get_tp(x)[skip_samples:]*7,get_cluster_count(x,'ksd_good').apply(np.log10)[skip_samples:],\n",
    "                        'less'))\n",
    "fig2l_metadata['amp_lr_res']=fig2l_metadata.rat.apply(\n",
    "    lambda x:linregress(get_tp(x)[skip_samples:]*7,get_amp(x,'ksd_good').apply(np.median).apply(np.log10)[skip_samples:],\n",
    "                        'less'))\n",
    "fig2l_metadata['imp_lr_res']=fig2l_metadata.rat.apply(\n",
    "    lambda x:linregress(get_tp(x)[skip_samples:]*7,(get_imp(x)*1e6).apply(np.median).apply(np.log10)[skip_samples:],\n",
    "                        'less'))\n",
    "fig2l_metadata['active_ch_lr_res']=fig2l_metadata.rat.apply(\n",
    "    lambda x:linregress(get_tp(x)[skip_samples:]*7,get_channels_have_signals_count(x,'ksd_good').apply(np.log10)[skip_samples:],\n",
    "                        'less'))"
   ]
  },
  {
   "cell_type": "code",
   "execution_count": null,
   "id": "9ec23b96-4ed4-4092-9930-164f0a7983bd",
   "metadata": {},
   "outputs": [],
   "source": [
    "fig2l_metadata['fr_slope']=fig2l_metadata['fr_lr_res'].apply(lambda x:x.slope)\n",
    "fig2l_metadata['fr_pvalue']=fig2l_metadata['fr_lr_res'].apply(lambda x:x.pvalue)\n",
    "fig2l_metadata['nc_slope']=fig2l_metadata['nc_lr_res'].apply(lambda x:x.slope)\n",
    "fig2l_metadata['nc_pvalue']=fig2l_metadata['nc_lr_res'].apply(lambda x:x.pvalue)\n",
    "fig2l_metadata['amp_slope']=fig2l_metadata['amp_lr_res'].apply(lambda x:x.slope)\n",
    "fig2l_metadata['amp_pvalue']=fig2l_metadata['amp_lr_res'].apply(lambda x:x.pvalue)\n",
    "fig2l_metadata['imp_slope']=fig2l_metadata['imp_lr_res'].apply(lambda x:x.slope)\n",
    "fig2l_metadata['imp_pvalue']=fig2l_metadata['imp_lr_res'].apply(lambda x:x.pvalue)\n",
    "fig2l_metadata['active_ch_slope']=fig2l_metadata['active_ch_lr_res'].apply(lambda x:x.slope)\n",
    "fig2l_metadata['active_ch_pvalue']=fig2l_metadata['active_ch_lr_res'].apply(lambda x:x.pvalue)"
   ]
  },
  {
   "cell_type": "code",
   "execution_count": null,
   "id": "13bb7d2b-2172-4f35-8e47-cae7507b45b4",
   "metadata": {},
   "outputs": [],
   "source": [
    "fig2l_metadata[['rat','rat_index','nc_pvalue','fr_pvalue','amp_pvalue','active_ch_pvalue']]"
   ]
  },
  {
   "cell_type": "code",
   "execution_count": null,
   "id": "dbdb773c-986c-4a0f-ade1-3cdc0bbea115",
   "metadata": {},
   "outputs": [],
   "source": [
    "fig2l_metadata[['rat','rat_index',*[i+'_slope' for i in ['nc','fr','amp','active_ch']],*[i+'_pvalue' for i in ['nc','fr','amp','active_ch']]]].to_excel('fig2/fig2j_pvalues.xlsx',index=False)"
   ]
  },
  {
   "cell_type": "markdown",
   "id": "66a474b3-5dd7-481f-bd52-08c53a37fa4b",
   "metadata": {
    "tags": []
   },
   "source": [
    "### Figure 2h & Extended Data Figure 6d"
   ]
  },
  {
   "cell_type": "code",
   "execution_count": null,
   "id": "dd9d7b35",
   "metadata": {},
   "outputs": [],
   "source": [
    "rat0324_metadata=metadata.query('rat==\"rat0324\"&curated').copy()\n",
    "rat0324_metadata['binfilename']=rat0324_metadata.apply(lambda x:glob.glob(os.path.join(x.directory,'*.bin'))[0],axis=1)\n",
    "rat0324_metadata['channel_RMS']=rat0324_metadata.binfilename\\\n",
    "    .apply(calc_noise)\n",
    "rat0324_metadata['channel_RMS']=rat0324_metadata['channel_RMS'].apply(lambda x:x.mad_hp.values)\n",
    "rat0324_metadata['snr']=rat0324_metadata.apply(calc_snr,axis=1)"
   ]
  },
  {
   "cell_type": "code",
   "execution_count": null,
   "id": "dd0a55d1",
   "metadata": {},
   "outputs": [],
   "source": [
    "rat0324_metadata[['timepoint_int','snr']].to_json('ext/ext6d.json')"
   ]
  },
  {
   "cell_type": "code",
   "execution_count": null,
   "metadata": {},
   "outputs": [],
   "source": [
    "rat0317_metadata=metadata.query('rat==\"rat0317\"&curated').copy()\n",
    "rat0317_metadata['binfilename']=rat0317_metadata.apply(lambda x:glob.glob(os.path.join(x.directory,'*.bin'))[0],axis=1)\n",
    "rat0317_metadata['channel_RMS']=rat0317_metadata.binfilename\\\n",
    "    .apply(calc_noise)\n",
    "rat0317_metadata['channel_RMS']=rat0317_metadata['channel_RMS'].apply(lambda x:x.mad_hp.values)\n",
    "rat0317_metadata['snr']=rat0317_metadata.apply(calc_snr,axis=1)"
   ]
  },
  {
   "cell_type": "code",
   "execution_count": null,
   "id": "b2eb3453-32d3-40a7-9e1b-571c21be0a88",
   "metadata": {},
   "outputs": [],
   "source": [
    "rat0317_metadata[['timepoint_int','snr']].to_json('fig2/fig2h.json')"
   ]
  },
  {
   "cell_type": "markdown",
   "id": "9ca3a75b-462d-4c07-b308-071d0c8ef1f6",
   "metadata": {
    "tags": []
   },
   "source": [
    "### Figure 2i & Extended Data Figure 6e"
   ]
  },
  {
   "cell_type": "code",
   "execution_count": null,
   "id": "ab7b6610-c17e-4f39-9c5f-71114a0f6ec9",
   "metadata": {},
   "outputs": [],
   "source": [
    "def get_spike_spatial_dist(ksd_instance):\n",
    "    d=ksd_instance.cluster_info.groupby('ch').fr.sum()/ksd_instance.cluster_info.groupby('ch').fr.sum().sum()\n",
    "    matrix=np.zeros(128)\n",
    "    matrix[d.index]=d.values\n",
    "    return matrix"
   ]
  },
  {
   "cell_type": "code",
   "execution_count": null,
   "id": "3c1c83dd-9b6e-491f-823a-c63720469b34",
   "metadata": {},
   "outputs": [],
   "source": [
    "rat0317_metadata['spike_channel_dist']=rat0317_metadata.ksd_good.apply(get_spike_spatial_dist)"
   ]
  },
  {
   "cell_type": "code",
   "execution_count": null,
   "id": "fa1fcd66",
   "metadata": {},
   "outputs": [],
   "source": [
    "rat0317_metadata['spike_channel_dist'].apply(max).max()"
   ]
  },
  {
   "cell_type": "code",
   "execution_count": null,
   "id": "6cb0b995",
   "metadata": {},
   "outputs": [],
   "source": [
    "np.savetxt('fig2/fig2i_tp.csv',rat0317_metadata.timepoint_int.values,delimiter=',')\n",
    "np.savetxt('fig2/fig2i.csv',np.array(rat0317_metadata['spike_channel_dist'].tolist()),delimiter=',')"
   ]
  },
  {
   "cell_type": "code",
   "execution_count": null,
   "id": "5d83399e",
   "metadata": {},
   "outputs": [],
   "source": [
    "rat0324_metadata['spike_channel_dist']=rat0324_metadata.ksd_good.apply(get_spike_spatial_dist)"
   ]
  },
  {
   "cell_type": "code",
   "execution_count": null,
   "id": "fca414b4",
   "metadata": {},
   "outputs": [],
   "source": [
    "rat0324_metadata['spike_channel_dist'].apply(max).max()"
   ]
  },
  {
   "cell_type": "code",
   "execution_count": null,
   "id": "f4a51379",
   "metadata": {},
   "outputs": [],
   "source": [
    "np.savetxt('ext/ext6e_tp.csv',rat0324_metadata.timepoint_int.values,delimiter=',')\n",
    "np.savetxt('ext/ext6e.csv',np.array(rat0324_metadata['spike_channel_dist'].tolist()),delimiter=',')"
   ]
  },
  {
   "cell_type": "markdown",
   "id": "52bc42cf-0c50-4933-9c2e-f0479baf0121",
   "metadata": {
    "tags": []
   },
   "source": [
    "### Figure 2g & Extended Data Figure 6c"
   ]
  },
  {
   "cell_type": "code",
   "execution_count": null,
   "id": "67e6029a-fff7-4350-843d-ea97ddc6bb58",
   "metadata": {},
   "outputs": [],
   "source": [
    "get_amp('rat0317','ksd_good').apply(list).to_excel('fig2/fig2g.xlsx',index=False)\n",
    "\n",
    "fig2g=pd.read_excel('fig2/fig2g.xlsx')\n",
    "\n",
    "fig2g['timepoint_int']=rat0317_metadata['timepoint_int'].values\n",
    "\n",
    "fig2g.rename(columns={'ksd_good':'Amplitude'},inplace=True)\n",
    "\n",
    "fig2g.to_excel('fig2/fig2g.xlsx',index=False)"
   ]
  },
  {
   "cell_type": "code",
   "execution_count": null,
   "id": "f1f76b07",
   "metadata": {},
   "outputs": [],
   "source": [
    "get_amp('rat0324','ksd_good').apply(list).to_excel('ext/ext6c.xlsx',index=False)\n",
    "\n",
    "fig2g=pd.read_excel('ext/ext6c.xlsx')\n",
    "\n",
    "fig2g['timepoint_int']=rat0324_metadata['timepoint_int'].values\n",
    "\n",
    "fig2g.rename(columns={'ksd_good':'Amplitude'},inplace=True)\n",
    "\n",
    "fig2g.to_excel('ext/ext6c.xlsx',index=False)"
   ]
  },
  {
   "cell_type": "markdown",
   "id": "05b037da-2a6f-4412-bc32-ae626bd523fd",
   "metadata": {
    "tags": []
   },
   "source": [
    "## Extended Data Figure 5"
   ]
  },
  {
   "cell_type": "code",
   "execution_count": null,
   "id": "7cef5deb-5045-4178-8e5d-e32641466d77",
   "metadata": {},
   "outputs": [],
   "source": [
    "si_spread=pd.DataFrame([{\n",
    "    'rat':'rat0708',\n",
    "    'timepoint_int':16,\n",
    "    'cluster_id':0\n",
    "},{\n",
    "    'rat':'rat0708',\n",
    "    'timepoint_int':6,\n",
    "    'cluster_id':9\n",
    "},{\n",
    "    'rat':'rat0324',\n",
    "    'timepoint_int':16,\n",
    "    'cluster_id':233\n",
    "},{\n",
    "    'rat':'rat0514',\n",
    "    'timepoint_int':0,\n",
    "    'cluster_id':285\n",
    "},{\n",
    "    'rat':'rat0514',\n",
    "    'timepoint_int':0,\n",
    "    'cluster_id':293\n",
    "},{\n",
    "    'rat':'rat0708',\n",
    "    'timepoint_int':11,\n",
    "    'cluster_id':338\n",
    "}])\n",
    "\n",
    "si_spread['mwf']=si_spread.apply(lambda x:\\\n",
    "                metadata.query('(rat==@x.rat)&(timepoint_int==@x.timepoint_int)').\\\n",
    "                ksd_good.values[0].mean_waveforms.get(x.cluster_id),\n",
    "                axis=1)\n",
    "\n",
    "si_spread['wf']=si_spread.apply(lambda x:\\\n",
    "                metadata.query('(rat==@x.rat)&(timepoint_int==@x.timepoint_int)').\\\n",
    "                ksd_good.values[0].extract_waveforms(x.cluster_id),\n",
    "                axis=1)\n",
    "\n",
    "si_spread['mwf']=si_spread['mwf'].apply(lambda x: dict([(i,j.tolist()) for (i,j) in x.items()])).apply(lambda x: dict(sorted(x.items())))\n",
    "\n",
    "si_spread['wf']=si_spread['wf'].apply(lambda x: dict([(i,j.tolist()) for (i,j) in x.items()])).apply(lambda x: dict(sorted(x.items())))\n",
    "\n",
    "#si_spread.to_json('ext/ext5.json')\n",
    "si_spread.to_json('ext/ext5.json.new') # this process contains randomness, so the result is not reproducible."
   ]
  },
  {
   "cell_type": "markdown",
   "id": "49bcc839-afd4-4d9c-b96a-5701a5817858",
   "metadata": {
    "jp-MarkdownHeadingCollapsed": true,
    "tags": []
   },
   "source": [
    "## Descriptive Statistics of Rat Data"
   ]
  },
  {
   "cell_type": "code",
   "execution_count": null,
   "id": "354bafa2-1e8b-4e47-b1aa-f856d7be8101",
   "metadata": {},
   "outputs": [],
   "source": [
    "def ravel(l):\n",
    "    r=[]\n",
    "    for item in l:\n",
    "        r.extend(item)\n",
    "    return np.array(r)"
   ]
  },
  {
   "cell_type": "code",
   "execution_count": null,
   "id": "d548ac08-46af-42ad-bddd-a89708ed7df1",
   "metadata": {},
   "outputs": [],
   "source": [
    "metadata.groupby('rat').postprocessed.count()"
   ]
  },
  {
   "cell_type": "code",
   "execution_count": null,
   "id": "25b1ff78-4048-4ffd-b547-f7626f1faf7d",
   "metadata": {},
   "outputs": [],
   "source": [
    "# fig2l_metadata['all_cluster_count']=fig2l_metadata.ksd_good_mua.apply(lambda x:x.cluster_id.size)\n",
    "# fig2l_metadata['good']=fig2l_metadata.ksd_good.apply(lambda x:x.cluster_id.size)\n",
    "# fig2l_metadata['mua']=fig2l_metadata.ksd_mua.apply(lambda x:x.cluster_id.size)\n",
    "# fig2l_metadata['fr_sum']=fig2l_metadata.ksd_good.apply(lambda x:x.info.fr.sum())\n",
    "# fig2l_metadata['fr_sum_all']=fig2l_metadata.ksd_good_mua.apply(lambda x:x.info.fr.sum())\n",
    "\n",
    "# fig2l_metadata['fr_good_mean']=fig2l_metadata.ksd_good.apply(lambda x:x.info.fr.mean())\n",
    "# fig2l_metadata['fr_mua_mean']=fig2l_metadata.ksd_mua.apply(lambda x:x.info.fr.mean())\n",
    "# fig2l_metadata['fr_all_mean']=fig2l_metadata.ksd_good_mua.apply(lambda x:x.info.fr.mean())\n",
    "\n",
    "\n",
    "# np.set_printoptions(precision=2)\n",
    "# pd.set_option(\"display.precision\", 1) # https://stackoverflow.com/questions/43217916/pandas-data-precision\n",
    "# fig2l_metadata[['rat','timepoint','good','mua','fr_sum','fr_sum_all','fr_good_mean','fr_mua_mean','fr_all_mean']]\n",
    "# fig2l_metadata['fr_q25']=fig2l_metadata.ksd_good.apply(lambda x:x.info.fr.quantile(0.25))\n",
    "# fig2l_metadata['fr_q50']=fig2l_metadata.ksd_good.apply(lambda x:x.info.fr.quantile(0.5))\n",
    "# fig2l_metadata['fr_q75']=fig2l_metadata.ksd_good.apply(lambda x:x.info.fr.quantile(0.5))\n",
    "# fig2l_metadata['fr_sum']=fig2l_metadata.ksd_good.apply(lambda x:x.info.fr.sum())\n",
    "# fig2l_metadata['fr_mean']=fig2l_metadata.ksd_good.apply(lambda x:x.info.fr.mean())\n",
    "\n",
    "# fig2l_metadata['real_amp_q25']=fig2l_metadata.ksd_good.apply(lambda x:x.info.real_amp.quantile(0.25))\n",
    "# fig2l_metadata['real_amp_q50']=fig2l_metadata.ksd_good.apply(lambda x:x.info.real_amp.quantile(0.5))\n",
    "# fig2l_metadata['real_amp_q75']=fig2l_metadata.ksd_good.apply(lambda x:x.info.real_amp.quantile(0.5))\n",
    "# fig2l_metadata['real_amp_sum']=fig2l_metadata.ksd_good.apply(lambda x:x.info.real_amp.sum())\n",
    "# fig2l_metadata['real_amp_mean']=fig2l_metadata.ksd_good.apply(lambda x:x.info.real_amp.mean())\n",
    "# fig2l_metadata['spread_q25']=fig2l_metadata.ksd_good.apply(lambda x:np.quantile(x.spread[0],0.25))\n",
    "# fig2l_metadata['spread_q50']=fig2l_metadata.ksd_good.apply(lambda x:np.quantile(x.spread[0],0.5))\n",
    "# fig2l_metadata['spread_q75']=fig2l_metadata.ksd_good.apply(lambda x:np.quantile(x.spread[0],0.75))\n",
    "# fig2l_metadata['spread_mean']=fig2l_metadata.ksd_good.apply(lambda x:np.mean(x.spread[0]))\n",
    "# fig2l_metadata['density_q25']=fig2l_metadata.ksd_good.apply(lambda x:np.quantile(x.density[0],0.25))\n",
    "# fig2l_metadata['density_q50']=fig2l_metadata.ksd_good.apply(lambda x:np.quantile(x.density[0],0.5))\n",
    "# fig2l_metadata['density_q75']=fig2l_metadata.ksd_good.apply(lambda x:np.quantile(x.density[0],0.75))\n",
    "# fig2l_metadata['density_mean']=fig2l_metadata.ksd_good.apply(lambda x:np.mean(x.density[0]))\n",
    "# fig2l_metadata[['rat','rat_index','timepoint', 'timepoint_int', 'good_cluster_count', 'all_cluster_count',\n",
    "#         'fr_q25', 'fr_q50', 'fr_q75', 'fr_sum', 'fr_mean',\n",
    "#        'real_amp_q25', 'real_amp_q50', 'real_amp_q75', 'real_amp_sum',\n",
    "#        'real_amp_mean','spread_q25', 'spread_q50',\n",
    "#        'spread_q75', 'spread_mean', 'density_q25', 'density_q50',\n",
    "#        'density_q75', 'density_mean']].to_excel('\\\\\\\\jsynas2\\\\home\\\\paper figure\\\\data\\\\fig2l_metadata.xlsx',index=False)"
   ]
  },
  {
   "cell_type": "code",
   "execution_count": null,
   "id": "3aba3523",
   "metadata": {},
   "outputs": [],
   "source": [
    "min(yields_good_mua),max(yields_good_mua) # (143, 276)"
   ]
  },
  {
   "cell_type": "code",
   "execution_count": null,
   "id": "c3918188",
   "metadata": {},
   "outputs": [],
   "source": [
    "min(yields),max(yields) # (124, 239)"
   ]
  },
  {
   "cell_type": "code",
   "execution_count": null,
   "id": "93953478",
   "metadata": {},
   "outputs": [],
   "source": [
    "np.set_printoptions(precision=2)"
   ]
  },
  {
   "cell_type": "code",
   "execution_count": null,
   "id": "c6d7ac4f",
   "metadata": {},
   "outputs": [],
   "source": [
    "np.array([min(efficiencies),max(efficiencies)]) # array([1.24, 2.54])"
   ]
  },
  {
   "cell_type": "code",
   "execution_count": null,
   "id": "634371df-a997-49c8-80d8-f5acb89f1259",
   "metadata": {},
   "outputs": [],
   "source": [
    "fig2u_all_spread=np.concatenate(fig2u_metadata.ksd_good.apply(lambda x:x.spread[0]).values)\n",
    "fig2u_all_density=np.concatenate(fig2u_metadata.ksd_good.apply(lambda x:x.density[0]).values)"
   ]
  },
  {
   "cell_type": "code",
   "execution_count": null,
   "id": "ed603da7-635c-45bb-bff9-1dcf27255f6c",
   "metadata": {},
   "outputs": [],
   "source": [
    "fig2u_all_fr=np.concatenate(fig2u_metadata.ksd_good.apply(lambda x:x.info.fr.values).values)\n",
    "\n",
    "fig2u_all_amp=np.concatenate(fig2u_metadata.ksd_good.apply(lambda x:x.info.real_amp.values).values)\n",
    "\n",
    "fig2u_all_snr=np.concatenate(fig2u_metadata.snr.values)"
   ]
  },
  {
   "cell_type": "code",
   "execution_count": null,
   "id": "22617501",
   "metadata": {},
   "outputs": [],
   "source": [
    "np.set_printoptions(precision=1)"
   ]
  },
  {
   "cell_type": "code",
   "execution_count": null,
   "id": "4be401e3-bcd7-4b8b-ae0a-9ab0ed3c118f",
   "metadata": {},
   "outputs": [],
   "source": [
    "np.array([np.median(fig2u_all_amp),np.quantile(fig2u_all_amp,0.25),np.quantile(fig2u_all_amp,0.75)])\n",
    "# array([67.9, 44. , 99.6])"
   ]
  },
  {
   "cell_type": "code",
   "execution_count": null,
   "id": "95116516-07f1-4816-9406-8b86fcf33904",
   "metadata": {},
   "outputs": [],
   "source": [
    "np.array([np.median(fig2u_all_snr),np.quantile(fig2u_all_snr,0.25),np.quantile(fig2u_all_snr,0.75)])\n",
    "# array([ 7.3,  4.9, 10.6])"
   ]
  },
  {
   "cell_type": "code",
   "execution_count": null,
   "id": "d76e5518",
   "metadata": {},
   "outputs": [],
   "source": [
    "np.set_printoptions(precision=2)"
   ]
  },
  {
   "cell_type": "code",
   "execution_count": null,
   "id": "8ddd846f-6ce3-4564-ae06-54ee4d345254",
   "metadata": {},
   "outputs": [],
   "source": [
    "np.array([np.median(fig2u_all_fr),np.quantile(fig2u_all_fr,0.25),np.quantile(fig2u_all_fr,0.75)])\n",
    "# array([1.12, 0.56, 2.22])"
   ]
  },
  {
   "cell_type": "code",
   "execution_count": null,
   "id": "4b787f4b",
   "metadata": {},
   "outputs": [],
   "source": [
    "np.set_printoptions(precision=1)"
   ]
  },
  {
   "cell_type": "code",
   "execution_count": null,
   "id": "da8b14ec-af9e-403c-90e0-4a24b3213848",
   "metadata": {},
   "outputs": [],
   "source": [
    "np.array([np.mean(fig2u_all_density),np.std(fig2u_all_density)])\n",
    "# array([5.3, 3.9])"
   ]
  },
  {
   "cell_type": "code",
   "execution_count": null,
   "id": "1d4794c0-f0f7-4015-815a-e3dc055b84b7",
   "metadata": {},
   "outputs": [],
   "source": [
    "np.array([np.mean(fig2u_all_spread),np.std(fig2u_all_spread)])\n",
    "# array([2.8, 1.1])"
   ]
  }
 ],
 "metadata": {
  "kernelspec": {
   "display_name": "Python 3 (ipykernel)",
   "language": "python",
   "name": "python3"
  },
  "language_info": {
   "codemirror_mode": {
    "name": "ipython",
    "version": 3
   },
   "file_extension": ".py",
   "mimetype": "text/x-python",
   "name": "python",
   "nbconvert_exporter": "python",
   "pygments_lexer": "ipython3",
   "version": "3.9.18"
  }
 },
 "nbformat": 4,
 "nbformat_minor": 5
}
