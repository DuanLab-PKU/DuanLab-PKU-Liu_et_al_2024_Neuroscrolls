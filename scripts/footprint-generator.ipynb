{
 "cells": [
  {
   "cell_type": "markdown",
   "metadata": {},
   "source": [
    "# footprint generator\n",
    "\n",
    "2024.2.16"
   ]
  },
  {
   "cell_type": "code",
   "execution_count": 13,
   "metadata": {},
   "outputs": [],
   "source": [
    "%matplotlib inline\n",
    "\n",
    "import time\n",
    "time.asctime()\n",
    "import os\n",
    "import json"
   ]
  },
  {
   "cell_type": "code",
   "execution_count": 15,
   "metadata": {},
   "outputs": [],
   "source": [
    "FIGURE_DATA_PATH='.../paper/figure_data'\n",
    "FIGURE_OUTPUT_PATH='.../paper/figure_output_linux'\n",
    "# EXCEL_PATH='.../paper/figure_data/figure_data.xlsx'"
   ]
  },
  {
   "cell_type": "code",
   "execution_count": 16,
   "metadata": {},
   "outputs": [],
   "source": [
    "sf_nt = lambda f,n,postfix='svg',prefix=FIGURE_OUTPUT_PATH:\\\n",
    "    f.savefig('%s.%s'%(os.path.join(prefix,n),postfix),bbox_inches='tight')"
   ]
  },
  {
   "cell_type": "code",
   "execution_count": 17,
   "metadata": {},
   "outputs": [
    {
     "name": "stdout",
     "output_type": "stream",
     "text": [
      "v1.9.6_240124\n"
     ]
    }
   ],
   "source": [
    "from ksd import KSD\n",
    "print(KSD.__version__)\n",
    "querystr='(`group`==\"good\")'"
   ]
  },
  {
   "cell_type": "code",
   "execution_count": null,
   "metadata": {},
   "outputs": [],
   "source": [
    "RAMDOM_GENERATED_FLAG=True\n",
    "if RAMDOM_GENERATED_FLAG:\n",
    "    raise ValueError('The data has been generated.')"
   ]
  },
  {
   "cell_type": "code",
   "execution_count": null,
   "metadata": {},
   "outputs": [],
   "source": [
    "def save_waveform_snippets_with_footprint_tojson(ksd_instance,cluster_selected,chmin=4,chmax=5):\n",
    "    jsondata={}\n",
    "    for _,clid in enumerate(cluster_selected):\n",
    "        ch=ksd_instance.info.ch.get(clid)\n",
    "        wf=ksd_instance.extract_waveforms(clid,max_spikes=100)\n",
    "        \n",
    "        mwfs={}\n",
    "        wfs={}\n",
    "        position={}\n",
    "\n",
    "        if ('kilosort3_7_mc - jhl1209' in ksd_instance.kilosort_dir) and (3238==clid):\n",
    "            ch=ch+2\n",
    "\n",
    "        for chid in range(ch-chmin+1 if ch%2 else ch-chmin,ch+chmax if ch%2 else ch+chmax-1):\n",
    "            mwfs.update({str(chid):ksd_instance.mean_waveforms.get(clid)[chid].tolist()})\n",
    "            wfs.update({str(chid):wf[chid].tolist()})\n",
    "            position.update({str(chid):[ksd_instance.channel_positions[chid,0]-ksd_instance.channel_positions[ch-1 if ch%2 else ch-2,0],\n",
    "                                    ksd_instance.channel_positions[chid,1]-ksd_instance.channel_positions[ch-1 if ch%2 else ch-2,1]]})\n",
    "            \n",
    "    \n",
    "        jsondata.update({\n",
    "            str(clid):{'mwfs':mwfs,'wfs':wfs,'position':position}\n",
    "        })\n",
    "    return jsondata"
   ]
  },
  {
   "cell_type": "markdown",
   "metadata": {},
   "source": [
    "### Extended Data Figure 10"
   ]
  },
  {
   "cell_type": "code",
   "execution_count": 77,
   "metadata": {},
   "outputs": [
    {
     "name": "stdout",
     "output_type": "stream",
     "text": [
      "Loading data...\n",
      "Data Loaded.\n",
      "Mean waveforms were extracted in advance.\n",
      "Filtering cluster amplitudes (threshold: 20.0)\n",
      "Max amp 19.1 μV < 20 μV. Removing cluster 289\n",
      "Max amp 15.2 μV < 20 μV. Removing cluster 291\n",
      "Max amp 16.6 μV < 20 μV. Removing cluster 293\n",
      "Max amp 18.6 μV < 20 μV. Removing cluster 299\n",
      "Max amp 19.9 μV < 20 μV. Removing cluster 300\n",
      "Max amp 17.8 μV < 20 μV. Removing cluster 602\n",
      "Max amp 17.4 μV < 20 μV. Removing cluster 709\n",
      "Max amp 13.6 μV < 20 μV. Removing cluster 714\n",
      "Max amp 18.7 μV < 20 μV. Removing cluster 756\n",
      "Max amp 19.5 μV < 20 μV. Removing cluster 937\n",
      "Max amp 15.6 μV < 20 μV. Removing cluster 945\n",
      "Max amp 15.2 μV < 20 μV. Removing cluster 953\n",
      "Max amp 15.0 μV < 20 μV. Removing cluster 1003\n",
      "Max amp 19.2 μV < 20 μV. Removing cluster 1058\n",
      "Max amp 18.9 μV < 20 μV. Removing cluster 1229\n",
      "Max amp 17.9 μV < 20 μV. Removing cluster 1454\n",
      "Max amp 19.0 μV < 20 μV. Removing cluster 1647\n",
      "Max amp 19.4 μV < 20 μV. Removing cluster 1945\n",
      "Max amp 17.4 μV < 20 μV. Removing cluster 1951\n",
      "Max amp 19.8 μV < 20 μV. Removing cluster 1975\n",
      "Max amp 19.8 μV < 20 μV. Removing cluster 1998\n",
      "Max amp 14.6 μV < 20 μV. Removing cluster 2091\n",
      "Max amp 18.5 μV < 20 μV. Removing cluster 2093\n",
      "Max amp 13.9 μV < 20 μV. Removing cluster 2095\n",
      "Max amp 16.9 μV < 20 μV. Removing cluster 2102\n",
      "Max amp 14.5 μV < 20 μV. Removing cluster 2103\n",
      "Max amp 18.9 μV < 20 μV. Removing cluster 2109\n",
      "Max amp 16.0 μV < 20 μV. Removing cluster 2110\n",
      "Max amp 19.2 μV < 20 μV. Removing cluster 2126\n",
      "Max amp 13.9 μV < 20 μV. Removing cluster 2133\n",
      "Max amp 12.6 μV < 20 μV. Removing cluster 2146\n",
      "Max amp 13.8 μV < 20 μV. Removing cluster 2148\n",
      "Max amp 13.4 μV < 20 μV. Removing cluster 2154\n",
      "Max amp 18.0 μV < 20 μV. Removing cluster 2190\n",
      "Max amp 18.9 μV < 20 μV. Removing cluster 2201\n",
      "Max amp 18.0 μV < 20 μV. Removing cluster 2217\n",
      "Max amp 19.5 μV < 20 μV. Removing cluster 2235\n",
      "Max amp 10.9 μV < 20 μV. Removing cluster 2250\n",
      "Max amp 13.6 μV < 20 μV. Removing cluster 2251\n",
      "Max amp 14.3 μV < 20 μV. Removing cluster 2253\n",
      "Max amp 14.2 μV < 20 μV. Removing cluster 2255\n",
      "Max amp 11.5 μV < 20 μV. Removing cluster 2257\n",
      "Max amp 12.7 μV < 20 μV. Removing cluster 2258\n",
      "Max amp 18.5 μV < 20 μV. Removing cluster 2291\n",
      "Max amp 18.7 μV < 20 μV. Removing cluster 2342\n",
      "Max amp 17.3 μV < 20 μV. Removing cluster 2370\n",
      "Max amp 14.1 μV < 20 μV. Removing cluster 2388\n",
      "Max amp 18.2 μV < 20 μV. Removing cluster 2397\n",
      "Max amp 17.8 μV < 20 μV. Removing cluster 2399\n",
      "Max amp 14.2 μV < 20 μV. Removing cluster 2479\n",
      "Max amp 12.7 μV < 20 μV. Removing cluster 2480\n",
      "Max amp 14.8 μV < 20 μV. Removing cluster 2502\n",
      "Max amp 11.4 μV < 20 μV. Removing cluster 2506\n",
      "Max amp 17.6 μV < 20 μV. Removing cluster 2516\n",
      "Max amp 17.4 μV < 20 μV. Removing cluster 2712\n",
      "Max amp 19.3 μV < 20 μV. Removing cluster 2716\n",
      "Max amp 19.2 μV < 20 μV. Removing cluster 2717\n",
      "Max amp 17.1 μV < 20 μV. Removing cluster 2718\n",
      "Max amp 13.4 μV < 20 μV. Removing cluster 2721\n",
      "Max amp 18.8 μV < 20 μV. Removing cluster 2739\n",
      "Max amp 17.4 μV < 20 μV. Removing cluster 2741\n",
      "Max amp 16.5 μV < 20 μV. Removing cluster 2742\n",
      "Max amp 16.0 μV < 20 μV. Removing cluster 2746\n",
      "Max amp 18.0 μV < 20 μV. Removing cluster 2756\n",
      "Max amp 15.6 μV < 20 μV. Removing cluster 2759\n",
      "Max amp 19.8 μV < 20 μV. Removing cluster 2760\n",
      "Max amp 18.1 μV < 20 μV. Removing cluster 2772\n",
      "Max amp 18.8 μV < 20 μV. Removing cluster 2774\n",
      "Max amp 18.8 μV < 20 μV. Removing cluster 2775\n",
      "Max amp 17.5 μV < 20 μV. Removing cluster 2781\n",
      "Max amp 19.5 μV < 20 μV. Removing cluster 2782\n",
      "Max amp 19.7 μV < 20 μV. Removing cluster 2783\n",
      "Max amp 15.8 μV < 20 μV. Removing cluster 2798\n",
      "Max amp 15.5 μV < 20 μV. Removing cluster 2827\n",
      "Max amp 16.7 μV < 20 μV. Removing cluster 2847\n",
      "Max amp 17.9 μV < 20 μV. Removing cluster 2855\n",
      "Max amp 19.6 μV < 20 μV. Removing cluster 2864\n",
      "Max amp 18.9 μV < 20 μV. Removing cluster 2867\n",
      "Max amp 13.4 μV < 20 μV. Removing cluster 2873\n",
      "Max amp 17.9 μV < 20 μV. Removing cluster 2885\n",
      "Max amp 16.5 μV < 20 μV. Removing cluster 2890\n",
      "Max amp 17.5 μV < 20 μV. Removing cluster 2892\n",
      "Max amp 15.8 μV < 20 μV. Removing cluster 2900\n",
      "Max amp 17.0 μV < 20 μV. Removing cluster 2913\n",
      "Max amp 17.6 μV < 20 μV. Removing cluster 2940\n",
      "Max amp 18.1 μV < 20 μV. Removing cluster 3118\n",
      "Max amp 19.2 μV < 20 μV. Removing cluster 3123\n",
      "Max amp 17.7 μV < 20 μV. Removing cluster 3169\n",
      "Extracting main channel of a cluster...\n",
      "Generating 1 channel to n cluster relationship...\n",
      "Formatting main cluster count and cluster in channel count to Dataframe...\n",
      "Computing yield, efficiency, density and spread...\n",
      "Computation Done!\n"
     ]
    }
   ],
   "source": [
    "ksd_instance_probe2=KSD(\n",
    "    '...archived/Probe2/kilosort3_2nd10m_4',\n",
    "    phy_subset_dir=os.path.join('...archived/Probe2/kilosort3_2nd10m_4','subset_onlyfilter'),\n",
    "    querystr=querystr,\n",
    "    load_subset=False,\n",
    "    load_if_exists=True,\n",
    "    mmap_mode=None,\n",
    "    subfolder='ksd_v1.6',\n",
    "    imp_threshold=2\n",
    ")"
   ]
  },
  {
   "cell_type": "code",
   "execution_count": 28,
   "metadata": {},
   "outputs": [],
   "source": [
    "# cluster_selected=[3078,2432,2970,2603,2636,534]# 2515->2970\n",
    "cluster_selected=[3078,2432,2970,561,2636,534]# 2603->561 (23.11.21)"
   ]
  },
  {
   "cell_type": "code",
   "execution_count": 39,
   "metadata": {},
   "outputs": [
    {
     "name": "stdout",
     "output_type": "stream",
     "text": [
      "Extracting cluster 3078 waveforms (max spikes= 100)...\n",
      "Extracting cluster 2432 waveforms (max spikes= 100)...\n",
      "Extracting cluster 2970 waveforms (max spikes= 100)...\n",
      "Extracting cluster 561 waveforms (max spikes= 100)...\n",
      "Extracting cluster 2636 waveforms (max spikes= 100)...\n",
      "Extracting cluster 534 waveforms (max spikes= 100)...\n"
     ]
    }
   ],
   "source": [
    "s10_json=save_waveform_snippets_with_footprint_tojson(ksd_instance_probe2,cluster_selected,3,4)"
   ]
  },
  {
   "cell_type": "code",
   "execution_count": 94,
   "metadata": {},
   "outputs": [],
   "source": [
    "with open(FIGURE_DATA_PATH+'/ext/ext10.json','w') as fp:\n",
    "    json.dump(s10_json,fp)"
   ]
  },
  {
   "cell_type": "markdown",
   "metadata": {},
   "source": [
    "### Extended Data Figure 9"
   ]
  },
  {
   "cell_type": "code",
   "execution_count": null,
   "metadata": {},
   "outputs": [
    {
     "name": "stdout",
     "output_type": "stream",
     "text": [
      "Loading data...\n",
      "Data Loaded.\n",
      "Mean waveforms were extracted in advance.\n",
      "Filtering cluster amplitudes (threshold: 20.0)\n",
      "Max amp 17.3 μV < 20 μV. Removing cluster 262\n",
      "Max amp 18.1 μV < 20 μV. Removing cluster 268\n",
      "Max amp 19.5 μV < 20 μV. Removing cluster 288\n",
      "Max amp 18.0 μV < 20 μV. Removing cluster 308\n",
      "Max amp 20.0 μV < 20 μV. Removing cluster 393\n",
      "Max amp 17.9 μV < 20 μV. Removing cluster 526\n",
      "Max amp 17.9 μV < 20 μV. Removing cluster 567\n",
      "Max amp 18.7 μV < 20 μV. Removing cluster 686\n",
      "Max amp 19.3 μV < 20 μV. Removing cluster 688\n",
      "Max amp 19.4 μV < 20 μV. Removing cluster 756\n",
      "Max amp 17.9 μV < 20 μV. Removing cluster 821\n",
      "Max amp 17.1 μV < 20 μV. Removing cluster 1055\n",
      "Max amp 15.0 μV < 20 μV. Removing cluster 1090\n",
      "Max amp 18.2 μV < 20 μV. Removing cluster 1155\n",
      "Max amp 16.0 μV < 20 μV. Removing cluster 1504\n",
      "Max amp 14.4 μV < 20 μV. Removing cluster 1691\n",
      "Max amp 18.1 μV < 20 μV. Removing cluster 1706\n",
      "Max amp 19.8 μV < 20 μV. Removing cluster 1724\n",
      "Max amp 17.2 μV < 20 μV. Removing cluster 1771\n",
      "Max amp 17.5 μV < 20 μV. Removing cluster 1779\n",
      "Max amp 15.8 μV < 20 μV. Removing cluster 1802\n",
      "Max amp 15.2 μV < 20 μV. Removing cluster 1815\n",
      "Max amp 16.8 μV < 20 μV. Removing cluster 1820\n",
      "Max amp 17.3 μV < 20 μV. Removing cluster 1830\n",
      "Max amp 16.1 μV < 20 μV. Removing cluster 1832\n",
      "Max amp 19.5 μV < 20 μV. Removing cluster 1914\n",
      "Max amp 16.4 μV < 20 μV. Removing cluster 1917\n",
      "Max amp 18.1 μV < 20 μV. Removing cluster 1921\n",
      "Max amp 17.9 μV < 20 μV. Removing cluster 1969\n",
      "Max amp 19.7 μV < 20 μV. Removing cluster 2009\n",
      "Max amp 18.9 μV < 20 μV. Removing cluster 2025\n",
      "Max amp 19.8 μV < 20 μV. Removing cluster 2058\n",
      "Max amp 14.6 μV < 20 μV. Removing cluster 2139\n",
      "Max amp 14.8 μV < 20 μV. Removing cluster 2142\n",
      "Max amp 18.5 μV < 20 μV. Removing cluster 2144\n",
      "Max amp 18.9 μV < 20 μV. Removing cluster 2317\n",
      "Max amp 18.6 μV < 20 μV. Removing cluster 2512\n",
      "Max amp 19.8 μV < 20 μV. Removing cluster 2589\n",
      "Max amp 18.5 μV < 20 μV. Removing cluster 2686\n",
      "Max amp 18.2 μV < 20 μV. Removing cluster 2687\n",
      "Max amp 15.0 μV < 20 μV. Removing cluster 2693\n",
      "Max amp 13.6 μV < 20 μV. Removing cluster 2694\n",
      "Max amp 18.5 μV < 20 μV. Removing cluster 2710\n",
      "Max amp 18.6 μV < 20 μV. Removing cluster 2719\n",
      "Max amp 19.7 μV < 20 μV. Removing cluster 2724\n",
      "Max amp 15.5 μV < 20 μV. Removing cluster 2726\n",
      "Max amp 18.5 μV < 20 μV. Removing cluster 2731\n",
      "Max amp 19.9 μV < 20 μV. Removing cluster 2762\n",
      "Max amp 19.5 μV < 20 μV. Removing cluster 3017\n",
      "Extracting main channel of a cluster...\n",
      "Generating 1 channel to n cluster relationship...\n",
      "Formatting main cluster count and cluster in channel count to Dataframe...\n",
      "Computing yield, efficiency, density and spread...\n",
      "Computation Done!\n"
     ]
    }
   ],
   "source": [
    "ksd_instance_probe1=KSD(\n",
    "    '...archived/Probe1/kilosort3_10m',\n",
    "    phy_subset_dir=os.path.join('...archived/Probe1/kilosort3_10m','subset_onlyfilter'),\n",
    "    querystr='(`group`==\"good\")',\n",
    "    load_subset=False,\n",
    "    load_if_exists=True,\n",
    "    mmap_mode=None,\n",
    "    subfolder='ksd_v1.6',\n",
    "    imp_threshold=2\n",
    ")"
   ]
  },
  {
   "cell_type": "code",
   "execution_count": null,
   "metadata": {},
   "outputs": [],
   "source": [
    "cluster_selected=[2775, 2787, 2853, 2983, 1134, 2871]"
   ]
  },
  {
   "cell_type": "code",
   "execution_count": null,
   "metadata": {},
   "outputs": [
    {
     "name": "stdout",
     "output_type": "stream",
     "text": [
      "Extracting cluster 2775 waveforms (max spikes= 100)...\n",
      "Extracting cluster 2787 waveforms (max spikes= 100)...\n",
      "Extracting cluster 2853 waveforms (max spikes= 100)...\n",
      "Extracting cluster 2983 waveforms (max spikes= 100)...\n",
      "Extracting cluster 1134 waveforms (max spikes= 100)...\n",
      "Extracting cluster 2871 waveforms (max spikes= 100)...\n"
     ]
    }
   ],
   "source": [
    "s9_json=save_waveform_snippets_with_footprint_tojson(ksd_instance_probe1,cluster_selected,3,4)\n",
    "with open(FIGURE_DATA_PATH+'/ext/ext9.json','w') as fp:\n",
    "    json.dump(s9_json,fp)"
   ]
  },
  {
   "cell_type": "markdown",
   "metadata": {},
   "source": [
    "## Figure 5c"
   ]
  },
  {
   "cell_type": "code",
   "execution_count": 23,
   "metadata": {},
   "outputs": [
    {
     "name": "stdout",
     "output_type": "stream",
     "text": [
      "Loading data...\n",
      "Data Loaded.\n",
      "Mean waveforms were extracted in advance.\n",
      "Filtering cluster amplitudes (threshold: 20.0)\n",
      "Max amp 14.8 μV < 20 μV. Removing cluster 48\n",
      "Max amp 10.1 μV < 20 μV. Removing cluster 259\n",
      "Max amp 16.8 μV < 20 μV. Removing cluster 530\n",
      "Max amp 18.3 μV < 20 μV. Removing cluster 533\n",
      "Max amp 19.4 μV < 20 μV. Removing cluster 535\n",
      "Max amp 17.2 μV < 20 μV. Removing cluster 622\n",
      "Max amp 14.0 μV < 20 μV. Removing cluster 717\n",
      "Max amp 13.3 μV < 20 μV. Removing cluster 718\n",
      "Max amp 10.3 μV < 20 μV. Removing cluster 719\n",
      "Max amp 15.5 μV < 20 μV. Removing cluster 720\n",
      "Max amp 19.2 μV < 20 μV. Removing cluster 734\n",
      "Max amp 13.2 μV < 20 μV. Removing cluster 738\n",
      "Max amp 11.4 μV < 20 μV. Removing cluster 749\n",
      "Max amp 10.4 μV < 20 μV. Removing cluster 752\n",
      "Max amp 18.8 μV < 20 μV. Removing cluster 1026\n",
      "Max amp 20.0 μV < 20 μV. Removing cluster 1101\n",
      "Max amp 17.2 μV < 20 μV. Removing cluster 1171\n",
      "Max amp 16.9 μV < 20 μV. Removing cluster 1176\n",
      "Max amp 18.6 μV < 20 μV. Removing cluster 1206\n",
      "Max amp 18.6 μV < 20 μV. Removing cluster 1208\n",
      "Max amp 12.3 μV < 20 μV. Removing cluster 1339\n",
      "Max amp 18.7 μV < 20 μV. Removing cluster 1383\n",
      "Max amp 17.0 μV < 20 μV. Removing cluster 1450\n",
      "Max amp 15.3 μV < 20 μV. Removing cluster 1511\n",
      "Max amp 18.8 μV < 20 μV. Removing cluster 1521\n",
      "Max amp 18.6 μV < 20 μV. Removing cluster 1549\n",
      "Max amp 11.2 μV < 20 μV. Removing cluster 1561\n",
      "Max amp 16.6 μV < 20 μV. Removing cluster 1575\n",
      "Max amp 18.8 μV < 20 μV. Removing cluster 1765\n",
      "Max amp 17.2 μV < 20 μV. Removing cluster 1950\n",
      "Max amp 19.1 μV < 20 μV. Removing cluster 1976\n",
      "Max amp 14.3 μV < 20 μV. Removing cluster 2095\n",
      "Max amp 17.5 μV < 20 μV. Removing cluster 2101\n",
      "Max amp 13.9 μV < 20 μV. Removing cluster 2134\n",
      "Max amp 16.9 μV < 20 μV. Removing cluster 2780\n",
      "Max amp 15.2 μV < 20 μV. Removing cluster 2783\n",
      "Max amp 15.0 μV < 20 μV. Removing cluster 2785\n",
      "Max amp 16.3 μV < 20 μV. Removing cluster 2789\n",
      "Max amp 17.7 μV < 20 μV. Removing cluster 2790\n",
      "Max amp 16.5 μV < 20 μV. Removing cluster 2810\n",
      "Max amp 19.0 μV < 20 μV. Removing cluster 2842\n",
      "Max amp 14.2 μV < 20 μV. Removing cluster 2843\n",
      "Max amp 16.7 μV < 20 μV. Removing cluster 2844\n",
      "Max amp 15.3 μV < 20 μV. Removing cluster 2847\n",
      "Max amp 16.9 μV < 20 μV. Removing cluster 2858\n",
      "Max amp 12.0 μV < 20 μV. Removing cluster 2867\n",
      "Max amp 16.5 μV < 20 μV. Removing cluster 2894\n",
      "Max amp 16.9 μV < 20 μV. Removing cluster 2895\n",
      "Max amp 16.3 μV < 20 μV. Removing cluster 2910\n",
      "Max amp 17.8 μV < 20 μV. Removing cluster 2918\n",
      "Max amp 19.6 μV < 20 μV. Removing cluster 2920\n",
      "Max amp 12.3 μV < 20 μV. Removing cluster 2921\n",
      "Max amp 17.8 μV < 20 μV. Removing cluster 3073\n",
      "Max amp 11.7 μV < 20 μV. Removing cluster 3108\n",
      "Max amp 17.4 μV < 20 μV. Removing cluster 3140\n",
      "Max amp 19.4 μV < 20 μV. Removing cluster 3348\n",
      "Max amp 12.9 μV < 20 μV. Removing cluster 3393\n",
      "Max amp 18.3 μV < 20 μV. Removing cluster 3420\n",
      "Max amp 11.8 μV < 20 μV. Removing cluster 3470\n",
      "Max amp 13.4 μV < 20 μV. Removing cluster 3471\n",
      "Max amp 13.1 μV < 20 μV. Removing cluster 3472\n",
      "Max amp 17.8 μV < 20 μV. Removing cluster 3475\n",
      "Max amp 10.9 μV < 20 μV. Removing cluster 3500\n",
      "Max amp 11.1 μV < 20 μV. Removing cluster 3507\n",
      "Max amp 15.4 μV < 20 μV. Removing cluster 3516\n",
      "Max amp 19.2 μV < 20 μV. Removing cluster 3520\n",
      "Max amp 19.8 μV < 20 μV. Removing cluster 3523\n",
      "Max amp 16.6 μV < 20 μV. Removing cluster 3525\n",
      "Max amp 18.2 μV < 20 μV. Removing cluster 3530\n",
      "Max amp 17.7 μV < 20 μV. Removing cluster 3611\n",
      "Max amp 14.7 μV < 20 μV. Removing cluster 3623\n",
      "Max amp 14.4 μV < 20 μV. Removing cluster 3628\n",
      "Max amp 14.9 μV < 20 μV. Removing cluster 3660\n",
      "Max amp 17.6 μV < 20 μV. Removing cluster 3665\n",
      "Max amp 20.0 μV < 20 μV. Removing cluster 3673\n",
      "Max amp 16.6 μV < 20 μV. Removing cluster 3681\n",
      "Max amp 18.5 μV < 20 μV. Removing cluster 3685\n",
      "Max amp 11.5 μV < 20 μV. Removing cluster 3690\n",
      "Max amp 11.4 μV < 20 μV. Removing cluster 3691\n",
      "Max amp 18.9 μV < 20 μV. Removing cluster 3698\n",
      "Max amp 12.2 μV < 20 μV. Removing cluster 3703\n",
      "Max amp 12.8 μV < 20 μV. Removing cluster 3707\n",
      "Extracting main channel of a cluster...\n",
      "Generating 1 channel to n cluster relationship...\n",
      "Formatting main cluster count and cluster in channel count to Dataframe...\n",
      "Computing yield, efficiency, density and spread...\n",
      "Computation Done!\n"
     ]
    }
   ],
   "source": [
    "querystr=\"(group=='good')&(fr>0.1)&(imp<2)\"\n",
    "\n",
    "postprocess_directory='...projects/Awake0915/25mm_task1_opsNT32768_Th99/kilosort3_7_mc - jhl1209'\n",
    "\n",
    "ksd_instance_awake=KSD(\n",
    "        postprocess_directory,\n",
    "        # sample_rate=30000,\n",
    "        area_names=['hip','cwm1','cortex1',],\n",
    "        dist_division=[0,  2.81, 13.0, 16.0,],\n",
    "        phy_subset_dir=os.path.join(postprocess_directory,'subset_onlyfilter'),\n",
    "        querystr=querystr,\n",
    "        dat_path=os.path.join(postprocess_directory,'..','temp_filtered.dat'),\n",
    "        # load_subset=True,\n",
    "        imp_threshold=2,\n",
    "        amp_threshold=20,\n",
    "        subfolder='ksd_v1.9',\n",
    "        mmap_mode=None,\n",
    "    )\n",
    "# ksd_instance_awake.run()"
   ]
  },
  {
   "cell_type": "code",
   "execution_count": 43,
   "metadata": {},
   "outputs": [],
   "source": [
    "# cluster_selected=[1462,3327,3284,1696,925,3293]\n",
    "# cluster_selected=[3238,3284,694]\n",
    "# cluster_selected=[3403, 3641, 3422, 3262, 3410, 3293] # 12.12 after yuji response\n",
    "# cluster_selected=[3732, 3641, 1696, 925, 3293] # 12.13 jhl curation finished\n",
    "# cluster_selected=[925, 1696, 3732, 3641, 3293] # 12.13 jhl curation finished\n",
    "cluster_selected=[3238, 1696, 3732, 925, 3293] # 12.14 after yangcen"
   ]
  },
  {
   "cell_type": "code",
   "execution_count": 44,
   "metadata": {},
   "outputs": [
    {
     "name": "stdout",
     "output_type": "stream",
     "text": [
      "Extracting cluster 3238 waveforms (max spikes= 100)...\n",
      "Extracting cluster 1696 waveforms (max spikes= 100)...\n",
      "Extracting cluster 3732 waveforms (max spikes= 100)...\n",
      "Extracting cluster 925 waveforms (max spikes= 100)...\n",
      "Extracting cluster 3293 waveforms (max spikes= 100)...\n"
     ]
    }
   ],
   "source": [
    "fig5c_json=save_waveform_snippets_with_footprint_tojson(ksd_instance_awake,cluster_selected)\n",
    "with open(FIGURE_DATA_PATH+'/fig5/fig5c.json','w') as fp:\n",
    "    json.dump(fig5c_json,fp)"
   ]
  }
 ],
 "metadata": {
  "kernelspec": {
   "display_name": "visual",
   "language": "python",
   "name": "python3"
  },
  "language_info": {
   "codemirror_mode": {
    "name": "ipython",
    "version": 3
   },
   "file_extension": ".py",
   "mimetype": "text/x-python",
   "name": "python",
   "nbconvert_exporter": "python",
   "pygments_lexer": "ipython3",
   "version": "3.9.18"
  },
  "orig_nbformat": 4
 },
 "nbformat": 4,
 "nbformat_minor": 2
}
