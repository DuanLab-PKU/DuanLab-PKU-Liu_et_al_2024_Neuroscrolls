{
 "cells": [
  {
   "cell_type": "markdown",
   "metadata": {},
   "source": [
    "# Organize data into excel workbooks\n",
    "\n",
    "2024.2.16\n",
    "\n",
    "2024.5.14 V2"
   ]
  },
  {
   "cell_type": "code",
   "execution_count": 1,
   "metadata": {},
   "outputs": [
    {
     "name": "stdout",
     "output_type": "stream",
     "text": [
      "Mon May 20 15:39:58 2024\n"
     ]
    }
   ],
   "source": [
    "import time\n",
    "\n",
    "print(time.asctime())\n",
    "\n",
    "import os\n",
    "from pathlib import Path\n",
    "\n",
    "import pandas as pd\n",
    "import numpy as np\n",
    "import json\n",
    "from scipy.io import loadmat\n",
    "\n",
    "FIGURE_DATA_PATH = Path(\"../data\")\n",
    "os.chdir(FIGURE_DATA_PATH)\n",
    "\n",
    "np.set_printoptions(precision=5)\n",
    "SRCDATA_PATH = Path(\"../sourcedata\")\n",
    "def format_float_list(x, precision=6):\n",
    "    return \"[\" + \",\".join([f\"%.{precision}g\" % i for i in x]) + \"]\"\n",
    "def format_int_list(x):\n",
    "    return \"[\" + \",\".join([f\"{i:d}\" for i in x]) + \"]\"\n",
    "def check_closed(x:str):\n",
    "    return (x[-1]==']') and (len(x)<32768)"
   ]
  },
  {
   "cell_type": "markdown",
   "metadata": {},
   "source": [
    "## Figure 1"
   ]
  },
  {
   "cell_type": "markdown",
   "metadata": {},
   "source": [
    "### 1l"
   ]
  },
  {
   "cell_type": "code",
   "execution_count": 25,
   "metadata": {},
   "outputs": [],
   "source": [
    "fig1kl = pd.read_excel(\"fig1/fig1kl.xlsx\")"
   ]
  },
  {
   "cell_type": "code",
   "execution_count": 20,
   "metadata": {},
   "outputs": [],
   "source": [
    "fig1kl.to_excel(SRCDATA_PATH / \"figure_1.xlsx\", index=False, sheet_name='fig1l')"
   ]
  },
  {
   "cell_type": "markdown",
   "metadata": {},
   "source": [
    "## Figure 2"
   ]
  },
  {
   "cell_type": "markdown",
   "metadata": {},
   "source": [
    "### 2d"
   ]
  },
  {
   "cell_type": "code",
   "execution_count": 123,
   "metadata": {},
   "outputs": [],
   "source": [
    "with open(\"fig2/fig2d.json\", \"r\") as fp:\n",
    "    fig2d = json.load(fp)"
   ]
  },
  {
   "cell_type": "code",
   "execution_count": 124,
   "metadata": {},
   "outputs": [],
   "source": [
    "fig2d_df = pd.DataFrame(fig2d, index=[f\"Rat {i}\" for i in range(1, 6)])"
   ]
  },
  {
   "cell_type": "code",
   "execution_count": 125,
   "metadata": {},
   "outputs": [],
   "source": [
    "for k in [\"amplitudes\", \"snrs\", \"frs\"]:\n",
    "    fig2d_df[k] = fig2d_df[k].apply(format_float_list)\n",
    "\n",
    "for k in [\"densities\", \"spreads\"]:\n",
    "    fig2d_df[k] = fig2d_df[k].apply(format_int_list)"
   ]
  },
  {
   "cell_type": "code",
   "execution_count": 126,
   "metadata": {},
   "outputs": [],
   "source": [
    "fig2d_df=pd.DataFrame(fig2d_df)"
   ]
  },
  {
   "cell_type": "code",
   "execution_count": 127,
   "metadata": {},
   "outputs": [
    {
     "name": "stdout",
     "output_type": "stream",
     "text": [
      "True\n",
      "True\n",
      "True\n",
      "True\n",
      "True\n"
     ]
    }
   ],
   "source": [
    "for k in [\"amplitudes\", \"snrs\", \"frs\", \"densities\", \"spreads\"]:\n",
    "    print(fig2d_df[k].apply(check_closed).all())"
   ]
  },
  {
   "cell_type": "code",
   "execution_count": 128,
   "metadata": {},
   "outputs": [],
   "source": [
    "fig2d_df.rename(columns={\n",
    "    \"efficiencies\": \"Efficiency\",\n",
    "    \"amplitudes\": \"Amplitude\",\n",
    "    \"snrs\": \"SNR\",\n",
    "    \"frs\": \"Firing Rate\",\n",
    "    \"densities\": \"Density\",\n",
    "    \"spreads\": \"Spread\"\n",
    "}, inplace=True)"
   ]
  },
  {
   "cell_type": "code",
   "execution_count": 129,
   "metadata": {},
   "outputs": [],
   "source": [
    "fig2d_df.drop(columns=[\"yields\",'yields_good_mua','yields_mua'], inplace=True)"
   ]
  },
  {
   "cell_type": "code",
   "execution_count": 130,
   "metadata": {},
   "outputs": [],
   "source": [
    "with pd.ExcelWriter(\n",
    "    SRCDATA_PATH / \"figure_2.xlsx\",\n",
    "    mode=\"w\",\n",
    "    engine=\"openpyxl\",\n",
    ") as writer:\n",
    "    fig2d_df.to_excel(writer, sheet_name=\"fig2d\", index=True)"
   ]
  },
  {
   "cell_type": "markdown",
   "metadata": {},
   "source": [
    "### 2j"
   ]
  },
  {
   "cell_type": "code",
   "execution_count": 131,
   "metadata": {},
   "outputs": [],
   "source": [
    "with open(\"fig2/fig2j.json\", \"r\") as fp:\n",
    "    fig2j = json.load(fp)\n",
    "fig2j_df = pd.DataFrame(fig2j)\n",
    "fig2j_df = fig2j_df.T\n",
    "fig2j_df.index = [f\"Rat {i}\" for i in range(1, 7)]"
   ]
  },
  {
   "cell_type": "code",
   "execution_count": 132,
   "metadata": {},
   "outputs": [
    {
     "data": {
      "text/plain": [
       "True"
      ]
     },
     "execution_count": 132,
     "metadata": {},
     "output_type": "execute_result"
    }
   ],
   "source": [
    "# fr_values_dict = {}\n",
    "# for k in fig2j_df.fr_values.keys():\n",
    "#     for point, values in enumerate(fig2j_df.fr_values[k]):\n",
    "#         if k not in fr_values_dict:\n",
    "#             fr_values_dict[\"%s-Point %d\" % (k, point)] = []\n",
    "#         fr_values_dict[\"%s-Point %d\" % (k, point)].append(format_float_list(values))\n",
    "# fr_values_dict=pd.DataFrame(fr_values_dict).T\n",
    "# fr_values_dict.columns=['Firing rate of each unit']\n",
    "# fr_values_dict['Firing rate of each unit'].apply(check_closed).all()"
   ]
  },
  {
   "cell_type": "code",
   "execution_count": 133,
   "metadata": {},
   "outputs": [],
   "source": [
    "for k in [\"tp\", \"cluster_count\", \"channels_have_signals_count\"]:\n",
    "    fig2j_df[k] = fig2j_df[k].apply(format_int_list)\n",
    "for k in [\"tot_fr\"]:\n",
    "    fig2j_df[k] = fig2j_df[k].apply(format_float_list)"
   ]
  },
  {
   "cell_type": "code",
   "execution_count": 134,
   "metadata": {},
   "outputs": [],
   "source": [
    "fig2j_df['Mean amplitude']=fig2j_df.amp.apply(lambda x:[np.mean(i) for i in x])\n",
    "fig2j_df['Mean amplitude']=fig2j_df['Mean amplitude'].apply(format_float_list)\n",
    "fig2j_df.drop(columns=['amp','fr_values'], inplace=True)"
   ]
  },
  {
   "cell_type": "code",
   "execution_count": 135,
   "metadata": {},
   "outputs": [
    {
     "name": "stdout",
     "output_type": "stream",
     "text": [
      "True\n",
      "True\n",
      "True\n",
      "True\n",
      "True\n"
     ]
    }
   ],
   "source": [
    "for k in fig2j_df.columns:\n",
    "    print(fig2j_df[k].apply(check_closed).all())"
   ]
  },
  {
   "cell_type": "code",
   "execution_count": 136,
   "metadata": {},
   "outputs": [],
   "source": [
    "fig2j_df.rename(columns={\n",
    "    \"tp\": \"Timepoint (week)\",\n",
    "    \"cluster_count\": \"Single unit count\",\n",
    "    \"channels_have_signals_count\": \"Count of channels with SUA\",\n",
    "    \"tot_fr\": \"Total firing rate\",\n",
    "}, inplace=True)"
   ]
  },
  {
   "cell_type": "code",
   "execution_count": 137,
   "metadata": {},
   "outputs": [],
   "source": [
    "with pd.ExcelWriter(SRCDATA_PATH / \"figure_2.xlsx\", mode=\"a\", engine='openpyxl') as writer:\n",
    "    fig2j_df.to_excel(writer, sheet_name=\"fig2j\", index=True)"
   ]
  },
  {
   "cell_type": "code",
   "execution_count": 138,
   "metadata": {},
   "outputs": [],
   "source": [
    "# with pd.ExcelWriter(SRCDATA_PATH / \"figure_2.xlsx\", mode=\"a\", engine='openpyxl') as writer:\n",
    "#     fr_values_dict.to_excel(writer, sheet_name=\"fig2j_firingrates\", index=True)"
   ]
  },
  {
   "cell_type": "code",
   "execution_count": 139,
   "metadata": {},
   "outputs": [],
   "source": [
    "fig2j_pvalues = pd.read_excel(\"fig2/fig2j_pvalues.xlsx\")\n",
    "fig2j_pvalues.columns = map(lambda x: x.replace('nc','Neuron count').replace('fr','Firing rate').replace('amp','Amplitude').replace('active_ch','Count of channels with SUA'), fig2j_pvalues.columns)\n",
    "fig2j_pvalues.drop(columns=['rat'], inplace=True)\n",
    "with pd.ExcelWriter(SRCDATA_PATH / \"figure_2.xlsx\", mode=\"a\", engine='openpyxl') as writer:\n",
    "    fig2j_pvalues.to_excel(writer, sheet_name=\"fig2j_regression_results\", index=False)"
   ]
  },
  {
   "cell_type": "markdown",
   "metadata": {},
   "source": [
    "### 2g/ext6c"
   ]
  },
  {
   "cell_type": "code",
   "execution_count": 140,
   "metadata": {},
   "outputs": [],
   "source": [
    "fig2g = pd.read_excel(\"fig2/fig2g.xlsx\")\n",
    "fig2g.ksd_good.apply(check_closed).all()\n",
    "fig2g.ksd_good = fig2g.ksd_good.apply(eval).apply(lambda x: format_float_list(x))"
   ]
  },
  {
   "cell_type": "code",
   "execution_count": 141,
   "metadata": {},
   "outputs": [],
   "source": [
    "fig2g = pd.read_excel(\"fig2/fig2g.xlsx\")\n",
    "fig2g.ksd_good.apply(check_closed).all()\n",
    "fig2g.ksd_good = fig2g.ksd_good.apply(eval).apply(lambda x: format_float_list(x))\n",
    "fig2g.rename(columns={\"timepoint_int\":\"Timepoint (week)\"}, inplace=True)\n",
    "fig2g=fig2g[['Timepoint (week)','Amplitude']]\n",
    "with pd.ExcelWriter(\n",
    "    SRCDATA_PATH / \"figure_2.xlsx\", mode=\"a\", engine=\"openpyxl\"\n",
    ") as writer:\n",
    "    fig2g.to_excel(writer, sheet_name=\"fig2g\", index=False)"
   ]
  },
  {
   "cell_type": "markdown",
   "metadata": {},
   "source": [
    "---"
   ]
  },
  {
   "cell_type": "code",
   "execution_count": 142,
   "metadata": {},
   "outputs": [],
   "source": [
    "fig2g = pd.read_excel(\"ext/ext6c.xlsx\")\n",
    "fig2g.ksd_good.apply(check_closed).all()\n",
    "fig2g.ksd_good = fig2g.ksd_good.apply(eval).apply(lambda x: format_float_list(x))\n",
    "fig2g.rename(columns={\"timepoint_int\":\"Timepoint (week)\"}, inplace=True)\n",
    "fig2g=fig2g[['Timepoint (week)','Amplitude']]\n",
    "with pd.ExcelWriter(\n",
    "    SRCDATA_PATH / \"ext_figure_6.xlsx\", mode=\"w\", engine=\"openpyxl\"\n",
    ") as writer:\n",
    "    fig2g.to_excel(writer, sheet_name=\"c\", index=False)"
   ]
  },
  {
   "cell_type": "markdown",
   "metadata": {},
   "source": [
    "### 2h/ext6d"
   ]
  },
  {
   "cell_type": "code",
   "execution_count": 143,
   "metadata": {},
   "outputs": [],
   "source": [
    "fig2h = pd.read_json(\"fig2/fig2h.json\")\n",
    "fig2h.snr = fig2h.snr.apply(format_float_list)\n",
    "fig2h.snr.apply(check_closed).all()\n",
    "fig2h.rename(columns={\"snr\": \"SNR\",\"timepoint_int\":\"Timepoint (week)\"}, inplace=True)\n",
    "with pd.ExcelWriter(\n",
    "    SRCDATA_PATH / \"figure_2.xlsx\", mode=\"a\", engine=\"openpyxl\"\n",
    ") as writer:\n",
    "    fig2h.to_excel(writer, sheet_name=\"fig2h\", index=False)"
   ]
  },
  {
   "cell_type": "markdown",
   "metadata": {},
   "source": [
    "---"
   ]
  },
  {
   "cell_type": "code",
   "execution_count": 144,
   "metadata": {},
   "outputs": [],
   "source": [
    "fig2h = pd.read_json(\"ext/ext6d.json\")\n",
    "fig2h.snr = fig2h.snr.apply(format_float_list)\n",
    "fig2h.snr.apply(check_closed).all()\n",
    "fig2h.rename(columns={\"snr\": \"SNR\",\"timepoint_int\":\"Timepoint (week)\"}, inplace=True)\n",
    "with pd.ExcelWriter(\n",
    "    SRCDATA_PATH / \"ext_figure_6.xlsx\", mode=\"a\", engine=\"openpyxl\"\n",
    ") as writer:\n",
    "    fig2h.to_excel(writer, sheet_name=\"d\", index=False)"
   ]
  },
  {
   "cell_type": "markdown",
   "metadata": {},
   "source": [
    "## Figure 3"
   ]
  },
  {
   "cell_type": "markdown",
   "metadata": {},
   "source": [
    "### 3d"
   ]
  },
  {
   "cell_type": "code",
   "execution_count": 225,
   "metadata": {},
   "outputs": [],
   "source": [
    "fig3d = pd.read_excel(\"fig3/fig3d.xlsx\")"
   ]
  },
  {
   "cell_type": "code",
   "execution_count": 226,
   "metadata": {},
   "outputs": [],
   "source": [
    "with pd.ExcelWriter(\n",
    "    SRCDATA_PATH / \"figure_3.xlsx\", mode=\"w\", engine=\"openpyxl\"\n",
    ") as writer:\n",
    "    fig3d[['channel_id','density']].to_excel(writer, sheet_name=\"fig3d\", index=False)"
   ]
  },
  {
   "cell_type": "markdown",
   "metadata": {},
   "source": [
    "### 3h/4f"
   ]
  },
  {
   "cell_type": "code",
   "execution_count": 227,
   "metadata": {},
   "outputs": [],
   "source": [
    "with open(\"fig3/fig3h.json\", \"r\") as fp:\n",
    "    fig3h = json.load(fp)\n",
    "with open(\"fig4/fig4f.json\", \"r\") as fp:\n",
    "    fig4f = json.load(fp)"
   ]
  },
  {
   "cell_type": "code",
   "execution_count": 228,
   "metadata": {},
   "outputs": [
    {
     "data": {
      "text/plain": [
       "[0.0, 1.4409999999999998, 10.241, 14.041, 16.641000000000002, 20.841]"
      ]
     },
     "execution_count": 228,
     "metadata": {},
     "output_type": "execute_result"
    }
   ],
   "source": [
    "fig3h.pop(\"dist_division\")\n",
    "fig4f.pop(\"dist_division\")"
   ]
  },
  {
   "cell_type": "code",
   "execution_count": 229,
   "metadata": {},
   "outputs": [],
   "source": [
    "fig3h=pd.DataFrame(fig3h)\n",
    "fig4f=pd.DataFrame(fig4f)"
   ]
  },
  {
   "cell_type": "code",
   "execution_count": 230,
   "metadata": {},
   "outputs": [],
   "source": [
    "fig3h.drop(columns=[\"intervals\",\"yield\"], inplace=True)\n",
    "fig4f.drop(columns=[\"intervals\",\"yield\"], inplace=True)"
   ]
  },
  {
   "cell_type": "code",
   "execution_count": 231,
   "metadata": {},
   "outputs": [],
   "source": [
    "fig3h.rename(\n",
    "    columns={\n",
    "        \"density\": \"Density\",\n",
    "        \"efficiency\": \"Efficiency\",\n",
    "        \"amplitude\": \"Amplitude\",\n",
    "        \"area_name\": \"Area\",\n",
    "        \"spread\": \"Spread\",\n",
    "    },\n",
    "    inplace=True,\n",
    ")"
   ]
  },
  {
   "cell_type": "code",
   "execution_count": 232,
   "metadata": {},
   "outputs": [],
   "source": [
    "fig4f.rename(\n",
    "    columns={\n",
    "        \"density\": \"Density\",\n",
    "        \"efficiency\": \"Efficiency\",\n",
    "        \"amplitude\": \"Amplitude\",\n",
    "        \"area_name\": \"Area\",\n",
    "        \"spread\": \"Spread\",\n",
    "    },\n",
    "    inplace=True,\n",
    ")"
   ]
  },
  {
   "cell_type": "code",
   "execution_count": 233,
   "metadata": {},
   "outputs": [],
   "source": [
    "with pd.ExcelWriter(\n",
    "    SRCDATA_PATH / \"figure_3.xlsx\", mode=\"a\", engine=\"openpyxl\"\n",
    ") as writer:\n",
    "    pd.DataFrame(fig3h).to_excel(writer, sheet_name=\"fig3h\", index=False)"
   ]
  },
  {
   "cell_type": "code",
   "execution_count": 234,
   "metadata": {},
   "outputs": [],
   "source": [
    "with pd.ExcelWriter(\n",
    "    SRCDATA_PATH / \"figure_4.xlsx\", mode=\"w\", engine=\"openpyxl\"\n",
    ") as writer:\n",
    "    pd.DataFrame(fig4f).to_excel(writer, sheet_name=\"fig4f\", index=False)"
   ]
  },
  {
   "cell_type": "markdown",
   "metadata": {},
   "source": [
    "### 3i"
   ]
  },
  {
   "cell_type": "code",
   "execution_count": 235,
   "metadata": {},
   "outputs": [],
   "source": [
    "fig3i = pd.read_json(\"fig3/fig3i.json\")"
   ]
  },
  {
   "cell_type": "code",
   "execution_count": 236,
   "metadata": {},
   "outputs": [],
   "source": [
    "fig3i.drop(columns=\"efficiencies\",inplace=True)"
   ]
  },
  {
   "cell_type": "code",
   "execution_count": 237,
   "metadata": {},
   "outputs": [
    {
     "name": "stdout",
     "output_type": "stream",
     "text": [
      "True\n",
      "True\n",
      "True\n"
     ]
    }
   ],
   "source": [
    "for k in [\"amplitudes\", \"firingrates\", \"snr\"]:\n",
    "    fig3i[k] = fig3i[k].apply(format_float_list)\n",
    "    print(fig3i[k].apply(check_closed).all())"
   ]
  },
  {
   "cell_type": "code",
   "execution_count": 238,
   "metadata": {},
   "outputs": [],
   "source": [
    "fig3i.rename(columns={\n",
    "    \"probe\": \"Probe\",\n",
    "    \"area_names\": \"Area\",\n",
    "    \"amplitudes\": \"Amplitude\",\n",
    "    \"snr\": \"SNR\",\n",
    "    \"firingrates\": \"Firing Rate\",\n",
    "    \"yields\":\"Single Unit Count (Yield)\"\n",
    "}, inplace=True)"
   ]
  },
  {
   "cell_type": "code",
   "execution_count": 239,
   "metadata": {},
   "outputs": [],
   "source": [
    "with pd.ExcelWriter(\n",
    "    SRCDATA_PATH / \"figure_3.xlsx\", mode=\"a\", engine=\"openpyxl\", if_sheet_exists='replace'\n",
    ") as writer:\n",
    "    fig3i.to_excel(writer, sheet_name=\"fig3i\", index=False)"
   ]
  },
  {
   "cell_type": "markdown",
   "metadata": {},
   "source": [
    "## Figure 4"
   ]
  },
  {
   "cell_type": "markdown",
   "metadata": {},
   "source": [
    "### 4d"
   ]
  },
  {
   "cell_type": "code",
   "execution_count": 240,
   "metadata": {},
   "outputs": [],
   "source": [
    "Probe2_cluster_metrics = pd.read_excel(\"fig4/fig4d.xlsx\")"
   ]
  },
  {
   "cell_type": "code",
   "execution_count": 242,
   "metadata": {},
   "outputs": [],
   "source": [
    "Probe2_cluster_metrics.rename(\n",
    "    columns={\n",
    "        \"mch\":'channel_id',\n",
    "        'real_amp':'Amplitude',\n",
    "        'waveform_type':'Waveform type',\n",
    "    },\n",
    "    inplace=True,\n",
    ")"
   ]
  },
  {
   "cell_type": "markdown",
   "metadata": {},
   "source": [
    "## Figure 5"
   ]
  },
  {
   "cell_type": "markdown",
   "metadata": {},
   "source": [
    "### 5e"
   ]
  },
  {
   "cell_type": "code",
   "execution_count": 11,
   "metadata": {},
   "outputs": [],
   "source": [
    "with open(\"fig5/fig5e_lower.json\") as fp:\n",
    "    fig5el_data = json.load(fp)"
   ]
  },
  {
   "cell_type": "code",
   "execution_count": 12,
   "metadata": {},
   "outputs": [],
   "source": [
    "fig5el_data=pd.DataFrame(fig5el_data)"
   ]
  },
  {
   "cell_type": "code",
   "execution_count": 13,
   "metadata": {},
   "outputs": [
    {
     "name": "stdout",
     "output_type": "stream",
     "text": [
      "True\n",
      "True\n"
     ]
    }
   ],
   "source": [
    "for k in [\"error\", \"swfr_mean\"]:\n",
    "    fig5el_data[k] = fig5el_data[k].apply(format_float_list)\n",
    "    print(fig5el_data[k].apply(check_closed).all())"
   ]
  },
  {
   "cell_type": "code",
   "execution_count": 14,
   "metadata": {},
   "outputs": [],
   "source": [
    "fig5el_data.rename(\n",
    "    columns={\n",
    "        \"group\": \"Category\",\n",
    "        \"trial_ids\": \"Trial IDs\",\n",
    "        \"swtimes\": \"Time\",\n",
    "        \"swfrs\": \"Firing Rate\",\n",
    "        \"error\": \"Error\",\n",
    "        \"swfr_mean\": \"Mean firing rate\",\n",
    "    },\n",
    "    inplace=True\n",
    ")"
   ]
  },
  {
   "cell_type": "code",
   "execution_count": 15,
   "metadata": {},
   "outputs": [],
   "source": [
    "with pd.ExcelWriter(\n",
    "    SRCDATA_PATH / \"figure_5.xlsx\", mode=\"w\", engine=\"openpyxl\"\n",
    ") as writer:\n",
    "    fig5el_data[['Category','Trial IDs','Time','Mean firing rate','Error']].to_excel(writer, sheet_name=\"fig5e_lower\", index=False)"
   ]
  },
  {
   "cell_type": "code",
   "execution_count": null,
   "metadata": {},
   "outputs": [],
   "source": [
    "# fig5el_by_trial = []\n",
    "\n",
    "# for n, (g, trial_ids, _, swfrs, _, _) in pd.DataFrame(\n",
    "#     fig5el_data\n",
    "# ).iterrows():\n",
    "    \n",
    "\n",
    "#     for trial_id, swfr in zip(trial_ids,swfrs):\n",
    "\n",
    "#         fig5el_by_trial.append(\n",
    "#             {\n",
    "#                 \"Category\": g,\n",
    "#                 \"Trial ID\": trial_id,\n",
    "#                 \"Firing Rates\": swfr,\n",
    "#             }\n",
    "#         )\n",
    "# fig5el_by_trial = pd.DataFrame(fig5el_by_trial)\n",
    "# fig5el_by_trial[\"Firing Rates\"].apply(str).apply(check_closed).all()"
   ]
  },
  {
   "cell_type": "code",
   "execution_count": 20,
   "metadata": {},
   "outputs": [],
   "source": [
    "# with pd.ExcelWriter(\n",
    "#     SRCDATA_PATH / \"figure_5.xlsx\", mode=\"a\", engine=\"openpyxl\"\n",
    "# ) as writer:\n",
    "#     fig5el_by_trial.to_excel(writer, sheet_name=\"fig5e_lower_firingrates\", index=False)"
   ]
  }
 ],
 "metadata": {
  "kernelspec": {
   "display_name": "phy2",
   "language": "python",
   "name": "python3"
  },
  "language_info": {
   "codemirror_mode": {
    "name": "ipython",
    "version": 3
   },
   "file_extension": ".py",
   "mimetype": "text/x-python",
   "name": "python",
   "nbconvert_exporter": "python",
   "pygments_lexer": "ipython3",
   "version": "3.9.18"
  }
 },
 "nbformat": 4,
 "nbformat_minor": 2
}
